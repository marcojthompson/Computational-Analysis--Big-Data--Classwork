{
 "cells": [
  {
   "cell_type": "markdown",
   "metadata": {},
   "source": [
    "# Week 2: A Data Scientist's most fundamental tools"
   ]
  },
  {
   "cell_type": "markdown",
   "metadata": {
    "ExecuteTime": {
     "end_time": "2017-08-23T15:30:03.634114Z",
     "start_time": "2017-08-23T15:30:03.629294Z"
    }
   },
   "source": [
    "Today's exercises will be related to chapters 3, 4, 5 from DSFS. The point of these exercises is to refresh your memory on some mathematics and get you comfortable doing computations in code.\n",
    "\n",
    "The exercises today cover:\n",
    "* Basic visualization\n",
    "* Linear algebra\n",
    "* Statistics\n",
    "\n",
    "**Advice**: Some of you may be new to solving problems using code. You may be wondering *what level of detail* I expect in your solutions, your code comments and explanations. **This is the guideline:** Solve the exercises in a manner that allows you to—later in life—use them as examples. This also means that you should add code comments when the code isn't self-explanatory or if you're afraid it won't make sense when you look at it with fresh eyes. You may also want to comment on your output in plain text to capture the conclusions you arrive at throughout your analysis. But express yourself succinctly. To quote (probably) Einstein: *\"Make everything as simple as possible, but not simpler\"*. Finally, when you optimize for your own future comprehension, other people will be able to understand what you did."
   ]
  },
  {
   "cell_type": "markdown",
   "metadata": {},
   "source": [
    "## Exercises"
   ]
  },
  {
   "cell_type": "markdown",
   "metadata": {},
   "source": [
    "### Part 1: Visualization (DSFS Chapter 3)"
   ]
  },
  {
   "cell_type": "markdown",
   "metadata": {},
   "source": [
    "Consult the [pyplot](https://matplotlib.org/stable/tutorials/introductory/pyplot.html) tutorial as needed."
   ]
  },
  {
   "cell_type": "markdown",
   "metadata": {},
   "source": [
    ">**Ex. 2.1.1 SOLVED**: The figure below meets the minumum style requirements which I expect the figures you make in this class (and life in general) should also meet:\n",
    "* Figure sizing. Try to make the aspect ratio close to 4:3.\n",
    "* Axis labels. Note that you may want to alter the `fontsize` to make them look nice.\n",
    "* Properly sized x and y tick labels.\n",
    "* Title (optional: not always necessary, but oftens helps the reader)\n",
    "* Legend (general rule: only use if you have multiple trends so reader can distinguish).\n",
    ">\n",
    "> Your task in this exercise if to reproduce this figure (perfect match not required).\n",
    ">\n",
    ">*Hint: To get figures to display inside the notebook, use the Jupyter magic `%matplotlib inline`. For pointers on how to make plots like this in Python, check out the textbook or Google something like \"scatter plot python\" and see if you can find some examples of how other people do this.*"
   ]
  },
  {
   "cell_type": "markdown",
   "metadata": {},
   "source": [
    "![img](https://ulfaslak.com/computational_analysis_of_big_data/exer_figures/example_2.1.1.png)"
   ]
  },
  {
   "cell_type": "markdown",
   "metadata": {},
   "source": [
    "Make sure you understand the code!"
   ]
  },
  {
   "cell_type": "code",
   "execution_count": 1,
   "metadata": {},
   "outputs": [
    {
     "data": {
      "image/png": "[encoded data removed]",
      "text/plain": [
       "<Figure size 432x288 with 1 Axes>"
      ]
     },
     "metadata": {
      "needs_background": "light"
     },
     "output_type": "display_data"
    }
   ],
   "source": [
    "from matplotlib import pyplot as plt\n",
    "import numpy as np\n",
    "\n",
    "%matplotlib inline\n",
    "indep_var = range(10)\n",
    "dep_var = [0, 0.8, 0.9, 0.15, -0.75, -1, -0.25, 0.6, 1, 0.5]\n",
    "\n",
    "plt.scatter(indep_var, dep_var)\n",
    "plt.title(\"A title\")\n",
    "plt.xlabel(\"An independent variable\")\n",
    "plt.ylabel(\"A dependent variable\")\n",
    "plt.legend ([\"A legend\"], loc=3)\n",
    "plt.show()"
   ]
  },
  {
   "cell_type": "markdown",
   "metadata": {},
   "source": [
    ">**Ex. 2.1.2**: The `get_x_y` function below gives you the number of comments versus score for the latest `N` posts on a given `subreddit`. First, make sure you understand the code.  Then: \n",
    "1. Make a scatter plot of `x` vs. `y` for the \"blackmirror\" subreddit (**remember** what you learned in the previous exercise about **styling**). Comment on what you see.\n",
    "2. Maybe you've noticed that it looks pretty bad right, in the sense that lots of points are close to each other while a few are far away from the rest? That's because the data does *not scale linearly*! This is a very common thing. To visualize it you should then try to *transform* it somehow. In this case, the data scales *exponentially* in both the x and y direction. Which transformation should we use to make it look linear?\n",
    "3. In two separate figures, floating side by side, scatter plot (left) the set of x and y variables for \"blackmirror\" and (right) x and y for \"news\" (you can use [subplots](https://matplotlib.org/3.3.3/api/_as_gen/matplotlib.pyplot.subplots.html), for example, to plot two figures sideby side). Remember to transform the data. When I solved this exercise a while back, my figure looked like [this](http://ulfaslak.com/computational_analysis_of_big_data/exer_figures/example_2.2b.png).\n",
    "4. Interpret and comment on any differences you see between the two plots. Why might number of comments versus post upvotes look different for a TV-show than for world news?\n",
    ">\n",
    ">*Hint: By \"transformation\" in point 2 and 3 above, I mean that you map some function onto every value in a list of values. Example: I can apply a square root transformation like `x = [np.sqrt(v) for v in x]`. A faster way to do that, of course, would be just `x = np.sqrt(x)`.*"
   ]
  },
  {
   "cell_type": "code",
   "execution_count": 3,
   "metadata": {
    "ExecuteTime": {
     "end_time": "2020-01-28T14:08:04.825646Z",
     "start_time": "2020-01-28T14:07:51.192395Z"
    }
   },
   "outputs": [
    {
     "name": "stdout",
     "output_type": "stream",
     "text": [
      "Retrieved 25 posts from page \n",
      "Retrieved 25 posts from page t3_t10ht0\n",
      "Retrieved 25 posts from page t3_suehya\n",
      "Retrieved 25 posts from page t3_snbpsj\n",
      "Retrieved 25 posts from page t3_sg0osr\n",
      "Retrieved 25 posts from page t3_sa335l\n",
      "Retrieved 25 posts from page t3_s5il14\n",
      "Retrieved 25 posts from page t3_s2sw25\n",
      "Retrieved 25 posts from page t3_rtxu96\n",
      "Retrieved 25 posts from page t3_rqljaq\n",
      "Retrieved 25 posts from page t3_rmcr8b\n",
      "Retrieved 25 posts from page t3_ri5dd4\n",
      "Retrieved 25 posts from page t3_re7qhl\n",
      "Retrieved 25 posts from page t3_r82r2m\n",
      "Retrieved 25 posts from page t3_r3a8jt\n",
      "Retrieved 25 posts from page t3_qzkyc9\n",
      "Retrieved 25 posts from page t3_qrqbf9\n",
      "Retrieved 25 posts from page t3_qizz2z\n",
      "Retrieved 25 posts from page t3_qbtwbe\n",
      "Retrieved 25 posts from page t3_q5dz3g\n"
     ]
    }
   ],
   "source": [
    "import requests as rq\n",
    "\n",
    "def get_x_y(subreddit, N, count=25):\n",
    "    \n",
    "    def _get_data(subreddit, count, after):\n",
    "        url = \"https://www.reddit.com/r/%s/.json?count=%d&after=%s\" % (subreddit, count, after)\n",
    "        data = rq.get(url, headers = {'User-agent': 'sneakybot'}).json()\n",
    "        print(\"Retrieved %d posts from page %s\" % (count, after))\n",
    "        return data\n",
    "    \n",
    "    after = \"\"\n",
    "\n",
    "    x, y = [], []\n",
    "    for n in range(N//count):\n",
    "        data = _get_data(subreddit, count, after)\n",
    "        for d in data['data']['children']:\n",
    "            x.append(d['data']['num_comments'])\n",
    "            y.append(d['data']['score'])\n",
    "        after = data['data']['after']\n",
    "\n",
    "    return x, y\n",
    "                          \n",
    "x, y = get_x_y(\"blackmirror\", 500, count=25)"
   ]
  },
  {
   "cell_type": "code",
   "execution_count": 4,
   "metadata": {},
   "outputs": [
    {
     "data": {
      "image/png": "[encoded data removed]",
      "text/plain": [
       "<Figure size 432x288 with 1 Axes>"
      ]
     },
     "metadata": {
      "needs_background": "light"
     },
     "output_type": "display_data"
    }
   ],
   "source": [
    "#Answer to 2.1.2.1\n",
    "from matplotlib import pyplot as plt\n",
    "import numpy as np\n",
    "\n",
    "#To get figures to display in the notebook\n",
    "%matplotlib inline\n",
    "\n",
    "#Set independent and dependent variables\n",
    "var_indep_blk = x\n",
    "var_dep_blk = y\n",
    "\n",
    "#Create the scatterplot and add labels\n",
    "plt.scatter(var_indep_blk, var_dep_blk)\n",
    "plt.title(\"Blackmirror: # of comments vs post score\")\n",
    "plt.xlabel(\"Number of comments\")\n",
    "plt.ylabel(\"Score\")\n",
    "\n",
    "#Show the scatterplot\n",
    "plt.show()\n"
   ]
  },
  {
   "cell_type": "code",
   "execution_count": 3,
   "metadata": {},
   "outputs": [
    {
     "name": "stderr",
     "output_type": "stream",
     "text": [
      "/tmp/ipykernel_147/3701067122.py:10: RuntimeWarning: divide by zero encountered in log\n",
      "  var_indep_blk = np.log(x)\n",
      "/tmp/ipykernel_147/3701067122.py:11: RuntimeWarning: divide by zero encountered in log\n",
      "  var_dep_blk = np.log(y)\n"
     ]
    },
    {
     "data": {
      "image/png": "[encoded data removed]",
      "text/plain": [
       "<Figure size 432x288 with 1 Axes>"
      ]
     },
     "metadata": {
      "needs_background": "light"
     },
     "output_type": "display_data"
    }
   ],
   "source": [
    "#Answer to 2.1.2.2\n",
    "from matplotlib import pyplot as plt\n",
    "import numpy as np\n",
    "#Since the data is exponential for both axis, we should take the natural log\n",
    "#to counteract this issue. Unfourtunately, since some posts have no comments,\n",
    "#and some posts also have no score, this means that any post with no comments \n",
    "#or score will not be valid in our calculations, since the natural log of 0 \n",
    "#is negative infinity. \n",
    "\n",
    "#Create new lists to take the natural log of each point's x and y coordinate\n",
    "var_indep_blk = np.log(x)\n",
    "var_dep_blk = np.log(y)\n",
    "\n",
    "#Create a new scatterplot to reflect the adjustment\n",
    "plt.scatter(var_indep_blk, var_dep_blk)\n",
    "plt.title(\"Blackmirror: natural log of # of comments vs natural log of post score\")\n",
    "plt.xlabel(\"natural log of Number of comments\")\n",
    "plt.ylabel(\"natural log of Score\")\n",
    "\n",
    "#Show the scatterplot\n",
    "plt.show()"
   ]
  },
  {
   "cell_type": "code",
   "execution_count": 5,
   "metadata": {},
   "outputs": [
    {
     "name": "stdout",
     "output_type": "stream",
     "text": [
      "Retrieved 25 posts from page \n",
      "Retrieved 25 posts from page t3_t4xlru\n",
      "Retrieved 25 posts from page t3_t52yug\n",
      "Retrieved 25 posts from page t3_t56zlc\n",
      "Retrieved 25 posts from page t3_t4h4es\n",
      "Retrieved 25 posts from page t3_t4jfq4\n",
      "Retrieved 25 posts from page t3_t3p2ze\n",
      "Retrieved 25 posts from page t3_t2x1s5\n",
      "Retrieved 25 posts from page t3_t2owbi\n",
      "Retrieved 25 posts from page t3_t29hfw\n",
      "Retrieved 25 posts from page None\n",
      "Retrieved 25 posts from page t3_t4xlru\n",
      "Retrieved 25 posts from page t3_t52yug\n",
      "Retrieved 25 posts from page t3_t56zlc\n",
      "Retrieved 25 posts from page t3_t4h4es\n",
      "Retrieved 25 posts from page t3_t4jfq4\n",
      "Retrieved 25 posts from page t3_t3p2ze\n",
      "Retrieved 25 posts from page t3_t2x1s5\n",
      "Retrieved 25 posts from page t3_t2owbi\n",
      "Retrieved 25 posts from page t3_t29hfw\n"
     ]
    },
    {
     "name": "stderr",
     "output_type": "stream",
     "text": [
      "/tmp/ipykernel_145/2296626351.py:13: RuntimeWarning: divide by zero encountered in log\n",
      "  var_indep_news = np.log(x_news)\n"
     ]
    },
    {
     "data": {
      "image/png": "[encoded data removed]",
      "text/plain": [
       "<Figure size 432x288 with 1 Axes>"
      ]
     },
     "metadata": {
      "needs_background": "light"
     },
     "output_type": "display_data"
    },
    {
     "data": {
      "image/png": "[encoded data removed]",
      "text/plain": [
       "<Figure size 432x288 with 1 Axes>"
      ]
     },
     "metadata": {
      "needs_background": "light"
     },
     "output_type": "display_data"
    }
   ],
   "source": [
    "#Answer to 2.1.2.3\n",
    "from matplotlib import pyplot as plt\n",
    "import numpy as np\n",
    "\n",
    "#Get the data from news. We will use the get_x_y function defined above, and \n",
    "#continue to use the same x_log, y_log variables for the Blackmirror data\n",
    "x_news, y_news = get_x_y(\"news\", 500, count=25)\n",
    "\n",
    "#To get figures to display in the notebook\n",
    "%matplotlib inline\n",
    "\n",
    "#Set independent and dependent variables\n",
    "var_indep_news = np.log(x_news)\n",
    "var_dep_news = np.log(y_news)\n",
    "\n",
    "#Create the scatterplots and add labels or each\n",
    "plt.subplots()\n",
    "plt.scatter(var_indep_blk, var_dep_blk)\n",
    "plt.title(\"Blackmirror: natural log of # of comments vs natural log of post score\")\n",
    "plt.xlabel(\"natural log of Number of comments\")\n",
    "plt.ylabel(\"natural log of Score\")\n",
    "\n",
    "plt.subplots()\n",
    "plt.scatter(var_indep_news, var_dep_news)\n",
    "plt.title(\"News: natural log of # of comments vs natural log of score\")\n",
    "plt.xlabel(\"natural log of Number of comments\")\n",
    "plt.ylabel(\"natural log of Score\")\n",
    "\n",
    "#Show the new scatterplots\n",
    "plt.show()\n"
   ]
  },
  {
   "cell_type": "markdown",
   "metadata": {},
   "source": [
    "#Answer to 2.1.2.4\n",
    "\n",
    "In r/news, the posts are all recent and people are more likely to get in, give their\n",
    "two cents, and leave. There is plenty of news to look at, so people are less likely to\n",
    "hang around. With Blackmirror it it possible there are more people who could be sifting \n",
    "through old posts, unlike news which is less likely to have people combing through old \n",
    "posts.\n"
   ]
  },
  {
   "cell_type": "markdown",
   "metadata": {},
   "source": [
    ">**Ex. 2.1.3**: There is clearly a huge level unevenness in the distribution of likes and comments given to different posts. Let's visualize this using histograms!\n",
    "1. Log transform `y` (e.g. create a new variable called `y_transformed`) and input it to `plt.hist`. Notice that if there are zeros in `y`, `np.log` will convert them to `-inf`, which `plt.hist` can't handle. You should therefore remove zeros before log transforming. When you have done this, execute `hist_output = plt.hist(y_transformed)`. This should produce a histogram. But what does the variable `hist_output` contain?  Check out [hist](https://matplotlib.org/3.3.3/api/_as_gen/matplotlib.pyplot.hist.html).\n",
    "2. OPTIONAL. Use the contents of `hist_output` to make a similar histogram with the `plt.bar` plotting function. I make you do this to force into your permanent memory what a histogram is: a bar chart showing counts within intervals/bins. (Many students get stuck on this question.  If you spend more than 5 minutes on this, leave it for now and return to it later.)\n",
    "3. Plot the distributions of `y_transformed` for \"blackmirror\" and \"news\" as histograms, side by side (you can just use the regular `plt.hist` function here). My figure looked like [this](http://ulfaslak.com/computational_analysis_of_big_data/exer_figures/example_2.2c.png). Interpret/comment on the result."
   ]
  },
  {
   "cell_type": "code",
   "execution_count": 6,
   "metadata": {},
   "outputs": [
    {
     "name": "stdout",
     "output_type": "stream",
     "text": [
      "<class 'tuple'>\n"
     ]
    },
    {
     "data": {
      "image/png": "[encoded data removed]",
      "text/plain": [
       "<Figure size 432x288 with 1 Axes>"
      ]
     },
     "metadata": {
      "needs_background": "light"
     },
     "output_type": "display_data"
    }
   ],
   "source": [
    "#Answer to 2.1.3.1\n",
    "from matplotlib import pyplot as plt\n",
    "import numpy as np\n",
    "\n",
    "#Remove 0s first, since they won't work in a histogram\n",
    "y = [i for i in y if i != 0]\n",
    "\n",
    "#Apply the natural log to our copy\n",
    "y_transformed = np.log(y)\n",
    "\n",
    "#According to the documentation, this variable will contain a tuple with all the data\n",
    "hist_output = plt.hist(y_transformed)\n",
    "print(type(hist_output))\n",
    "\n"
   ]
  },
  {
   "cell_type": "code",
   "execution_count": 10,
   "metadata": {},
   "outputs": [
    {
     "data": {
      "text/plain": [
       "\"\\nThe histogram for news shows more collelation between the number of comments \\nand the score of a given post, as we saw from the graph. The blackmirror \\nsubreddit doesn't seem to show any significant correlation between the score\\nof a post and the number of comments associated with it.\\n\""
      ]
     },
     "execution_count": 10,
     "metadata": {},
     "output_type": "execute_result"
    },
    {
     "data": {
      "image/png": "[encoded data removed]",
      "text/plain": [
       "<Figure size 432x288 with 1 Axes>"
      ]
     },
     "metadata": {
      "needs_background": "light"
     },
     "output_type": "display_data"
    },
    {
     "data": {
      "image/png": "[encoded data removed]",
      "text/plain": [
       "<Figure size 432x288 with 1 Axes>"
      ]
     },
     "metadata": {
      "needs_background": "light"
     },
     "output_type": "display_data"
    }
   ],
   "source": [
    "#Answer to 2.1.3.3\n",
    "from matplotlib import pyplot as plt\n",
    "import numpy as np\n",
    "\n",
    "#Remove 0s first for each dataset, since they won't work in a histogram\n",
    "y = [i for i in y if i != 0]\n",
    "y_news = [j for j in y_news if j != 0]\n",
    "\n",
    "#Apply the natural log to our copies\n",
    "y_transformed = np.log(y)\n",
    "y_news_transformed = np.log(y_news)\n",
    "\n",
    "#Create a histogram for each dataset\n",
    "plt.subplots()\n",
    "plt.hist(y_transformed)\n",
    "plt.title(\"Histogram of the natural log of y for r/blackmirror\")\n",
    "\n",
    "plt.subplots()\n",
    "plt.hist(y_news_transformed)\n",
    "plt.title(\"Histogram of the natural log of y for r/news\")\n",
    "\n",
    "\"\"\"\n",
    "The histogram for news shows more collelation between the number of comments \n",
    "and the score of a given post, as we saw from the graph. The blackmirror \n",
    "subreddit doesn't seem to show any significant correlation between the score\n",
    "of a post and the number of comments associated with it.\n",
    "\"\"\"\n"
   ]
  },
  {
   "cell_type": "markdown",
   "metadata": {},
   "source": [
    "### Part 2: Linear algebra (DSFS Chapter 4)"
   ]
  },
  {
   "cell_type": "markdown",
   "metadata": {},
   "source": [
    ">**Ex. 2.2.1**: What does Joel (book) mean when he uses the word *vector*? What are [Grant Sanderson](https://youtu.be/fNk_zzaMoSs)'s vector definitions from the perspectives of the Physicist, the Computer Scientist and the Mathematician, respectively?"
   ]
  },
  {
   "cell_type": "markdown",
   "metadata": {},
   "source": [
    "#Answer to 2.2.1\n",
    "The book defines a vector as an object that can be added to other vectors to form objects\n",
    "that can be multiplied by scalers to also create new objects. From Sanderson's video, in a physics \n",
    "context a vector is an arrow pointing with space, which has a lenth and direction associated wtih it.\n",
    "In a computer science context a vector is a list of numbers. The video shares a similiar view to the \n",
    "textbook when dealing with vectors in a math context; vectors are objects that can be added and scaled,\n",
    "and have a standard method of doing so. "
   ]
  },
  {
   "cell_type": "markdown",
   "metadata": {},
   "source": [
    ">**Ex. 2.2.2**: Using `numpy`, compute:\n",
    "1. `2 * [2, 3]`,\n",
    "2. `[3, 8] + [6, 1]`,\n",
    "3. `[3, 8] * [6, 1]` and\n",
    "4. `[3, 8] · [6, 1]` (dot product)\n",
    "5. `[3, 8, 0] x [6, 1, 0]` (cross product)"
   ]
  },
  {
   "cell_type": "code",
   "execution_count": 1,
   "metadata": {},
   "outputs": [
    {
     "name": "stdout",
     "output_type": "stream",
     "text": [
      "[4 6]\n",
      "[9 9]\n",
      "[18  8]\n",
      "26\n",
      "[  0   0 -45]\n"
     ]
    }
   ],
   "source": [
    "import numpy as np\n",
    "\n",
    "a = np.array([2, 3])\n",
    "b1, b2, b1_3d, b2_3d = np.array([3, 8]), np.array([6, 1]), np.array([3, 8, 0]), np.array([6, 1, 0])\n",
    "\n",
    "#Answer to 2.2.2.1\n",
    "answer_one = a * 2\n",
    "\n",
    "#Answer to 2.2.2.2\n",
    "answer_two = np.add(b1, b2)\n",
    "\n",
    "#Answer to 2.2.2.3\n",
    "answer_three = b1 * b2\n",
    "\n",
    "#Answer to 2.2.2.4\n",
    "answer_four = np.dot(b1, b2)\n",
    "\n",
    "#Answer to 2.2.2.5\n",
    "answer_five = np.cross(b1_3d, b2_3d)\n",
    "\n",
    "print(answer_one)\n",
    "print(answer_two)\n",
    "print(answer_three)\n",
    "print(answer_four)\n",
    "print(answer_five)\n"
   ]
  },
  {
   "cell_type": "markdown",
   "metadata": {},
   "source": [
    ">**Ex. 2.2.3**: Say you have two vectors. What does it mean that the dot product between them is zero or very close to zero? What if it's very large? Intuitively, what does the dot product then measure?"
   ]
  },
  {
   "cell_type": "markdown",
   "metadata": {},
   "source": [
    "#Answer to 2.2.3\n",
    "\n",
    "A small dot product implies that the two vectors in question are not close in direction(if it is zero the two vectors are perpendicular), whereas a large dot product implies they point in a similar direction. The larger the dot product, they closer together they are. The can therefore be seen as a way to measure the relative direction between two vectors."
   ]
  },
  {
   "cell_type": "markdown",
   "metadata": {},
   "source": [
    ">**Ex. 2.2.4**: In Data Science, we often think of matrices as (usually two-dimensional) containers for data. If we have $N$ data points each with $M$ features to them, we can represent this data using an $N \\times M$ matrix, that is a matrix that has $N$ rows, one for each datapoint, and $M$ columns, one for each feature. Below I fetch a dataset of wines (rows) and their features (columns)."
   ]
  },
  {
   "cell_type": "code",
   "execution_count": 4,
   "metadata": {
    "ExecuteTime": {
     "end_time": "2019-11-11T09:53:11.903738Z",
     "start_time": "2019-11-11T09:53:11.593708Z"
    }
   },
   "outputs": [
    {
     "data": {
      "text/plain": [
       "PCA(n_components=10)"
      ]
     },
     "execution_count": 4,
     "metadata": {},
     "output_type": "execute_result"
    }
   ],
   "source": [
    "import pandas as pd\n",
    "\n",
    "# Download dataset\n",
    "X = pd.read_csv(\"https://gist.githubusercontent.com/tijptjik/9408623/raw/b237fa5848349a14a14e5d4107dc7897c21951f5/wine.csv\").drop('Wine', axis=1)\n",
    "\n",
    "# Display dataset\n",
    "X.head(10)\n",
    "\n",
    "from sklearn.decomposition import PCA\n",
    "pca = PCA(n_components=10)\n",
    "pca.fit(X)"
   ]
  },
  {
   "cell_type": "markdown",
   "metadata": {},
   "source": [
    ">So this dataset has $N=178$ rows and $M=13$ columns. Let's start by finding the so-called *covariance matrix* of the features. It is a square, in this case, $13\\times13$ matrix where every value $i,j$ represents the covariance between features $i$ and $j$. [Read more here](https://en.wikipedia.org/wiki/Covariance_matrix).\n",
    "1. Use the `np.cov` method on this data to get the $13 \\times 13$ covariance matrix.\n",
    "2. Do you notice any characteristics of how values are organized in this matrix? Comment.\n",
    "3. Plot the distribution of covariances, e.g. using a histogram.\n",
    "4. Plot the distribution of correlations in the same way. Comment on the differences between these two plots. Is one easier to interpret than the other?\n",
    ">\n",
    ">*Hint for 1: `np.cov` expects that rows are features and columns are observations. That is the transpose of how `X` \n",
    "is represented now.*<br>\n",
    ">*Hint for 3: DO NOT just do something like `plt.hist(my_cov_matrix)`, as this will result in something completely different than what we are after (and not particularly meaningful).  Instead, use the covariance matrix to create a vector in which you keep all the distinct covariances.* <br>\n",
    ">*Hint for 4: The correlation matrix can be obtained with the `np.corrcoef` function.*"
   ]
  },
  {
   "cell_type": "code",
   "execution_count": 5,
   "metadata": {},
   "outputs": [
    {
     "name": "stdout",
     "output_type": "stream",
     "text": [
      "[[ 6.59062328e-01  8.56113090e-02  4.71151590e-02 -8.41092903e-01\n",
      "   3.13987812e+00  1.46887218e-01  1.92033222e-01 -1.57542595e-02\n",
      "   6.35175205e-02  1.02828254e+00 -1.33134432e-02  4.16978226e-02\n",
      "   1.64567185e+02]\n",
      " [ 8.56113090e-02  1.24801540e+00  5.02770393e-02  1.07633171e+00\n",
      "  -8.70779534e-01 -2.34337723e-01 -4.58630366e-01  4.07333619e-02\n",
      "  -1.41146982e-01  6.44838183e-01 -1.43325638e-01 -2.92447483e-01\n",
      "  -6.75488666e+01]\n",
      " [ 4.71151590e-02  5.02770393e-02  7.52646353e-02  4.06208278e-01\n",
      "   1.12293658e+00  2.21455913e-02  3.15347299e-02  6.35847140e-03\n",
      "   1.51557799e-03  1.64654327e-01 -4.68215451e-03  7.61835841e-04\n",
      "   1.93197391e+01]\n",
      " [-8.41092903e-01  1.07633171e+00  4.06208278e-01  1.11526862e+01\n",
      "  -3.97476036e+00 -6.71149146e-01 -1.17208281e+00  1.50421856e-01\n",
      "  -3.77176220e-01  1.45024186e-01 -2.09118054e-01 -6.56234368e-01\n",
      "  -4.63355345e+02]\n",
      " [ 3.13987812e+00 -8.70779534e-01  1.12293658e+00 -3.97476036e+00\n",
      "   2.03989335e+02  1.91646988e+00  2.79308703e+00 -4.55563385e-01\n",
      "   1.93283248e+00  6.62052061e+00  1.80851266e-01  6.69308068e-01\n",
      "   1.76915870e+03]\n",
      " [ 1.46887218e-01 -2.34337723e-01  2.21455913e-02 -6.71149146e-01\n",
      "   1.91646988e+00  3.91689535e-01  5.40470422e-01 -3.50451247e-02\n",
      "   2.19373345e-01 -7.99975192e-02  6.20388758e-02  3.11021278e-01\n",
      "   9.81710573e+01]\n",
      " [ 1.92033222e-01 -4.58630366e-01  3.15347299e-02 -1.17208281e+00\n",
      "   2.79308703e+00  5.40470422e-01  9.97718673e-01 -6.68669999e-02\n",
      "   3.73147553e-01 -3.99168626e-01  1.24081969e-01  5.58262255e-01\n",
      "   1.55447492e+02]\n",
      " [-1.57542595e-02  4.07333619e-02  6.35847140e-03  1.50421856e-01\n",
      "  -4.55563385e-01 -3.50451247e-02 -6.68669999e-02  1.54886339e-02\n",
      "  -2.60598680e-02  4.01205097e-02 -7.47117692e-03 -4.44692440e-02\n",
      "  -1.22035863e+01]\n",
      " [ 6.35175205e-02 -1.41146982e-01  1.51557799e-03 -3.77176220e-01\n",
      "   1.93283248e+00  2.19373345e-01  3.73147553e-01 -2.60598680e-02\n",
      "   3.27594668e-01 -3.35039177e-02  3.86645655e-02  2.10932940e-01\n",
      "   5.95543338e+01]\n",
      " [ 1.02828254e+00  6.44838183e-01  1.64654327e-01  1.45024186e-01\n",
      "   6.62052061e+00 -7.99975192e-02 -3.99168626e-01  4.01205097e-02\n",
      "  -3.35039177e-02  5.37444938e+00 -2.76505801e-01 -7.05812576e-01\n",
      "   2.30767480e+02]\n",
      " [-1.33134432e-02 -1.43325638e-01 -4.68215451e-03 -2.09118054e-01\n",
      "   1.80851266e-01  6.20388758e-02  1.24081969e-01 -7.47117692e-03\n",
      "   3.86645655e-02 -2.76505801e-01  5.22449607e-02  9.17662439e-02\n",
      "   1.70002234e+01]\n",
      " [ 4.16978226e-02 -2.92447483e-01  7.61835841e-04 -6.56234368e-01\n",
      "   6.69308068e-01  3.11021278e-01  5.58262255e-01 -4.44692440e-02\n",
      "   2.10932940e-01 -7.05812576e-01  9.17662439e-02  5.04086409e-01\n",
      "   6.99275256e+01]\n",
      " [ 1.64567185e+02 -6.75488666e+01  1.93197391e+01 -4.63355345e+02\n",
      "   1.76915870e+03  9.81710573e+01  1.55447492e+02 -1.22035863e+01\n",
      "   5.95543338e+01  2.30767480e+02  1.70002234e+01  6.99275256e+01\n",
      "   9.91667174e+04]]\n"
     ]
    }
   ],
   "source": [
    "#Answer to 2.2.4.1\n",
    "import numpy as np\n",
    "import sys\n",
    "np.set_printoptions(threshold=sys.maxsize)\n",
    "\n",
    "#Create a numpy array from the initial data\n",
    "data_vector = np.array(X)\n",
    "\n",
    "#Use the np.cov method to get covariance\n",
    "X_cov = np.cov(data_vector.T)\n",
    "\n",
    "#Output the result\n",
    "print(X_cov)"
   ]
  },
  {
   "cell_type": "markdown",
   "metadata": {},
   "source": [
    "#Answer to 2.2.4.2\n",
    "\n",
    "The values are arranged in a 13x13 python array. I also noticed that they all have scientific notation attatched to the end of each number, and most values are multiplied by between 10^-2 and 10^2"
   ]
  },
  {
   "cell_type": "code",
   "execution_count": 7,
   "metadata": {},
   "outputs": [
    {
     "data": {
      "image/png": "[encoded data removed]",
      "text/plain": [
       "<Figure size 432x288 with 1 Axes>"
      ]
     },
     "metadata": {
      "needs_background": "light"
     },
     "output_type": "display_data"
    }
   ],
   "source": [
    "#Answert to 2.2.4.3\n",
    "from matplotlib import pyplot as plt\n",
    "import numpy as np\n",
    "\n",
    "#Create a histogram of the covarience data\n",
    "plt.hist(X_cov)\n",
    "plt.title(\"Covarience\")\n",
    "\n",
    "#Show the histogram\n",
    "plt.show()"
   ]
  },
  {
   "cell_type": "code",
   "execution_count": 36,
   "metadata": {},
   "outputs": [
    {
     "data": {
      "image/png": "[encoded data removed]",
      "text/plain": [
       "<Figure size 432x288 with 1 Axes>"
      ]
     },
     "metadata": {
      "needs_background": "light"
     },
     "output_type": "display_data"
    },
    {
     "data": {
      "image/png": "[encoded data removed]",
      "text/plain": [
       "<Figure size 432x288 with 1 Axes>"
      ]
     },
     "metadata": {
      "needs_background": "light"
     },
     "output_type": "display_data"
    },
    {
     "data": {
      "text/plain": [
       "'\\nThe correlatin graph appears easier to work with, especially since the covarience has a clear\\noutlier. The correlation graph seems to show much more detail, though no trends appear here either. \\n'"
      ]
     },
     "execution_count": 36,
     "metadata": {},
     "output_type": "execute_result"
    }
   ],
   "source": [
    "#Answer to 2.2.4.4\n",
    "from matplotlib import pyplot as plt\n",
    "import numpy as np\n",
    "\n",
    "#Create a histogram of the covarience data\n",
    "plt.subplots()\n",
    "plt.hist(X_cov)\n",
    "plt.title(\"Covarience\")\n",
    "\n",
    "#Caltulate the correlation data\n",
    "X_cor = np.corrcoef(data_vector.T)\n",
    "\n",
    "#Create a histogram of the correlation data\n",
    "plt.subplots()\n",
    "plt.hist(X_cor)\n",
    "plt.title(\"Correlation\")\n",
    "\n",
    "#Show the histograms\n",
    "plt.show()\n",
    "\n",
    "#Addition answer from the question\n",
    "\"\"\"\n",
    "The correlatin graph appears easier to work with, especially since the covarience has a clear\n",
    "outlier. The correlation graph seems to show much more detail, though no trends appear here either. \n",
    "\"\"\""
   ]
  },
  {
   "cell_type": "markdown",
   "metadata": {},
   "source": [
    ">**Ex. 2.2.5**: There's another use of the covariance matrix, other than just learning how features co-vary. In fact, it turns out that the *eigenvectors* of the covariance matrix are a set of mutually orthogonal vectors, that point in the directions of greatest variance in the data. The eigenvector with the greatest *eigenvalue* points along the direction of greatest variation, and so on. This is pretty neat, because if we know along which axes the data is most stretched, we can figure out how best to project it when visualizing it in 2D as a scatter plot! This whole procedure has a name: **Principal Component Analysis** (PCA) and it was invented by Karl Pearson in 1901. It belongs to a powerful class of linear algebra methods called **Matrix Factorization** methods. Ok, so rather than spending too much time on the math of PCA, let's just use the `sklearn` implementation and fit a [PCA](https://scikit-learn.org/stable/modules/generated/sklearn.decomposition.PCA.html) on `X`."
   ]
  },
  {
   "cell_type": "code",
   "execution_count": 6,
   "metadata": {
    "ExecuteTime": {
     "end_time": "2019-11-11T09:54:12.788440Z",
     "start_time": "2019-11-11T09:54:12.761895Z"
    }
   },
   "outputs": [
    {
     "data": {
      "text/plain": [
       "PCA(n_components=10)"
      ]
     },
     "execution_count": 6,
     "metadata": {},
     "output_type": "execute_result"
    }
   ],
   "source": [
    "from sklearn.decomposition import PCA\n",
    "pca = PCA(n_components=10)\n",
    "pca.fit(X)"
   ]
  },
  {
   "cell_type": "markdown",
   "metadata": {},
   "source": [
    ">1. Explain what the matrix you get when you call `pca.components_` means.  Read about the `components_` attribute (run `?pca` in a code cell and then look under \"Attributes\").\n",
    "2. Make a bar plot of `pca.explained_variance_ratio_` and explain what it means (you may want to log-scale the y-axis). What insights about our data can we extract from this?\n",
    "3. Indeed, problem with the data AS-IS, is that the different features have very different variances (some are huge numbers others are small). The way to fix this is by doing something called \"[zscoring](https://en.wikipedia.org/wiki/Standard_score)\", whereby each feature is rescaled to have zero mean and unit standard deviation. In this way, all of the data ends up with comparable variance. Make a new array `X_z` that is the zscored `X`, using the `scipy.stats.zscore` function. Show that each column has zero mean and unit standard deviation.\n",
    "4. Transform `X` using the PCA we fitted above to create a new array `X_pca`. Then fit a new PCA to `X_z` and transform it to create another new array `X_z_pca`. Finally, scatter plot against each other the first two components (i.e. fitst two columns in array) of `X_pca`. Do the same for `X_z_pc`. Comment on the difference.\n",
    "\n",
    ">*Hint for 4: use `pca.transform` or `pca.fit_transform`. Understand the difference between the two.*"
   ]
  },
  {
   "cell_type": "code",
   "execution_count": 7,
   "metadata": {},
   "outputs": [
    {
     "name": "stdout",
     "output_type": "stream",
     "text": [
      "[[ 1.65926472e-03 -6.81015556e-04  1.94905742e-04 -4.67130058e-03\n",
      "   1.78680075e-02  9.89829680e-04  1.56728830e-03 -1.23086662e-04\n",
      "   6.00607792e-04  2.32714319e-03  1.71380037e-04  7.04931645e-04\n",
      "   9.99822937e-01]\n",
      " [ 1.20340617e-03  2.15498184e-03  4.59369254e-03  2.64503930e-02\n",
      "   9.99344186e-01  8.77962152e-04 -5.18507284e-05 -1.35447892e-03\n",
      "   5.00440040e-03  1.51003530e-02 -7.62673115e-04 -3.49536431e-03\n",
      "  -1.77738095e-02]\n",
      " [-1.68738094e-02 -1.22003373e-01 -5.19874304e-02 -9.38593003e-01\n",
      "   2.97802484e-02  4.04846439e-02  8.54433387e-02 -1.35107797e-02\n",
      "   2.46593824e-02 -2.91398464e-01  2.59776624e-02  7.03239693e-02\n",
      "  -4.52868159e-03]\n",
      " [-1.41446778e-01 -1.60389543e-01  9.77280992e-03  3.30965260e-01\n",
      "   5.39375605e-03  7.45846556e-02  1.69086724e-01 -1.08055610e-02\n",
      "   5.01209524e-02 -8.78893693e-01  6.00349446e-02  1.78200254e-01\n",
      "   3.11291570e-03]\n",
      " [ 2.03369773e-02 -6.12883454e-01  2.01755752e-02  6.43523403e-02\n",
      "  -6.14934472e-03  3.15245063e-01  5.24761088e-01 -2.96475124e-02\n",
      "   2.51182529e-01  3.31747051e-01  5.15240771e-02  2.60639176e-01\n",
      "  -2.29856939e-03]\n",
      " [ 1.94120104e-01  7.42472963e-01  4.17529118e-02 -2.40653026e-02\n",
      "  -1.92378154e-03  2.78716809e-01  4.33597955e-01 -2.19528343e-02\n",
      "   2.41884488e-01  2.73960896e-03 -2.37761666e-02  2.88912753e-01\n",
      "  -1.21225507e-03]\n",
      " [-9.23280337e-01  1.50109941e-01 -4.50095493e-02 -3.15265835e-02\n",
      "  -1.79736268e-03  2.01857100e-02  3.88685182e-02  4.66548296e-03\n",
      "   3.09799487e-01  1.12836514e-01 -3.08198127e-02 -1.01973518e-01\n",
      "   1.07618923e-03]\n",
      " [-2.84820658e-01  6.46744678e-02  1.49339532e-01 -1.51539118e-02\n",
      "   3.55221241e-03  1.77237945e-01  2.48116635e-01 -6.49796752e-03\n",
      "  -8.70433157e-01  8.12869205e-02  2.95190435e-03  1.86714531e-01\n",
      "  -1.03409482e-05]\n",
      " [-8.66006124e-02 -1.56621385e-02 -7.36498524e-02 -2.04457785e-03\n",
      "   1.96366816e-03 -2.55672918e-01 -3.78306653e-01 -3.67520428e-02\n",
      "   5.15201690e-02  9.90290846e-02 -3.30651238e-02  8.73746543e-01\n",
      "   7.25585209e-05]\n",
      " [-2.24499994e-03 -1.85093501e-02 -8.67996529e-02  3.55402799e-03\n",
      "  -4.05154189e-05  8.47195073e-01 -5.20138389e-01  3.77131942e-02\n",
      "   9.72275203e-03 -2.31471169e-02 -3.84698250e-02  1.70170830e-02\n",
      "   4.92663809e-05]]\n"
     ]
    },
    {
     "data": {
      "text/plain": [
       "'\\nThis array contains the eigenvectors for our projection space, one for each of the principal components.\\n'"
      ]
     },
     "execution_count": 7,
     "metadata": {},
     "output_type": "execute_result"
    }
   ],
   "source": [
    "#Answer to 2.2.5.1\n",
    "from sklearn.decomposition import PCA\n",
    "\n",
    "#Create a new variablet to hold the results of running pcs.componenets_\n",
    "array = pca.components_\n",
    "\n",
    "#Print the array\n",
    "print(array)\n",
    "\n",
    "\"\"\"\n",
    "This array contains the eigenvectors for our projection space, one for each of the principal components.\n",
    "\"\"\""
   ]
  },
  {
   "cell_type": "code",
   "execution_count": 11,
   "metadata": {},
   "outputs": [
    {
     "data": {
      "image/png": "[encoded data removed]",
      "text/plain": [
       "<Figure size 432x288 with 1 Axes>"
      ]
     },
     "metadata": {
      "needs_background": "light"
     },
     "output_type": "display_data"
    }
   ],
   "source": [
    "#Answer to 2.2.5.2\n",
    "from matplotlib import pyplot as plt\n",
    "from sklearn.decomposition import PCA\n",
    "\n",
    "#Get the percentages of explained variance\n",
    "variance_raito_list = pca.explained_variance_ratio_\n",
    "\n",
    "#Create an array of scaled x's\n",
    "x = [x+1 for x in range(len(variance_raito_list))]\n",
    "\n",
    "pca.explained_variance_ratio_.flatten()\n",
    "\n",
    "#Create a bar graph with the values from pca.explained_variance_ratio_\n",
    "plt.xticks(x)\n",
    "plt.bar(x, height = variance_raito_list, log = True)\n",
    "plt.title(\"Explained Variance Ratio Per Component\")\n",
    "\n",
    "#Show the graph\n",
    "plt.show()"
   ]
  },
  {
   "cell_type": "code",
   "execution_count": 15,
   "metadata": {
    "scrolled": true
   },
   "outputs": [
    {
     "name": "stdout",
     "output_type": "stream",
     "text": [
      "Means =  [-8.38280756e-16 -1.19754394e-16 -8.37033314e-16 -3.99181312e-17\n",
      " -3.99181312e-17  0.00000000e+00 -3.99181312e-16  3.59263181e-16\n",
      " -1.19754394e-16  2.49488320e-17  1.99590656e-16  3.19345050e-16\n",
      " -1.59672525e-16]\n",
      "Standard deviations =  [1. 1. 1. 1. 1. 1. 1. 1. 1. 1. 1. 1. 1.]\n"
     ]
    }
   ],
   "source": [
    "#Answer to 2.2.5.3(with help from fellow students)\n",
    "from scipy import stats\n",
    "import numpy as np\n",
    "\n",
    "#First take the z-scores of x\n",
    "x_zscores = np.array(stats.zscore(X))\n",
    "\n",
    "#Take the mean of each column\n",
    "columns_means = x_zscores.mean(axis = 0)\n",
    "\n",
    "#Find the standard deviation of each column\n",
    "columns_sd = x_zscores.std(axis=0)\n",
    "\n",
    "#Print the results\n",
    "print(\"Means = \", columns_means)\n",
    "print(\"Standard deviations = \", columns_sd)"
   ]
  },
  {
   "cell_type": "code",
   "execution_count": 16,
   "metadata": {},
   "outputs": [],
   "source": [
    "#Answer to 2.2.5.4\n",
    "\n",
    "\n",
    "x_pca = pca.transform(X) \n",
    "x_zscore_pca = pca.fit_transform(x_zscores)"
   ]
  },
  {
   "cell_type": "markdown",
   "metadata": {},
   "source": [
    "### Part 3: Statistics (DSFS Chapter 5)"
   ]
  },
  {
   "cell_type": "markdown",
   "metadata": {},
   "source": [
    ">**Ex. 2.3.1**: Take a vector `a = [1, 3, 2, 5, 3, 1, 5, 1, 9000]`:\n",
    "1. Compute the mean of `a` using `numpy`.\n",
    "2. How is median defined? Compute the median of `a` using `numpy`.\n",
    "3. For `a`, why might it make sense to take the median more seriously than the mean?"
   ]
  },
  {
   "cell_type": "code",
   "execution_count": 2,
   "metadata": {},
   "outputs": [
    {
     "name": "stdout",
     "output_type": "stream",
     "text": [
      "1002.3333333333334\n"
     ]
    }
   ],
   "source": [
    "#Answer to 2.3.1.1\n",
    "import numpy as np\n",
    "\n",
    "#Set a[] according to the question\n",
    "a = np.array([1, 3, 2, 5, 3, 1, 5, 1, 9000])\n",
    "\n",
    "#Compute the mean\n",
    "a_mean = np.mean(a)\n",
    "\n",
    "#print the result\n",
    "print(a_mean)"
   ]
  },
  {
   "cell_type": "code",
   "execution_count": 18,
   "metadata": {},
   "outputs": [
    {
     "name": "stdout",
     "output_type": "stream",
     "text": [
      "3.0\n"
     ]
    }
   ],
   "source": [
    "#Answer to 2.3.1.2\n",
    "\"\"\"\n",
    "The median is defined as the value in the middle position of a sorted dataset. If there\n",
    "are an even number of elements, the median is the average of the two middle elements.\n",
    "\"\"\"\n",
    "\n",
    "#Compute the median of a[]\n",
    "a_median = np.median(a)\n",
    "\n",
    "#Print the result\n",
    "print(a_median)"
   ]
  },
  {
   "cell_type": "markdown",
   "metadata": {},
   "source": [
    "#Answer to 2.3.1.3\n",
    "\n",
    "The last element of a[] is significantly larger than the rest, and since every element is used to calculate the average this results in a misleading value. The calculation of median doesn't concern the last element, unless it is the only element or only other element.\n"
   ]
  },
  {
   "cell_type": "markdown",
   "metadata": {},
   "source": [
    ">**Ex. 2.3.2**: Using the same vector `a`:\n",
    "1. How is *range* defined? Compute it.\n",
    "2. How is *variance* defined? How do variance and standard deviation relate? Compute them both. Which value is greater?\n",
    "3. What is the interquartile range? Compute it, and explain why it might be useful."
   ]
  },
  {
   "cell_type": "code",
   "execution_count": 23,
   "metadata": {},
   "outputs": [
    {
     "name": "stdout",
     "output_type": "stream",
     "text": [
      "8999\n"
     ]
    }
   ],
   "source": [
    "#Answer to 2.3.2.1\n",
    "\"\"\"\n",
    "Range is defined as the difference between the largest and smallest values of a given array.\n",
    "\"\"\"\n",
    "\n",
    "#Compute the range of a[]\n",
    "a_range = max(a) - min(a)\n",
    "\n",
    "#Print the result\n",
    "print(a_range)"
   ]
  },
  {
   "cell_type": "code",
   "execution_count": 22,
   "metadata": {},
   "outputs": [
    {
     "name": "stdout",
     "output_type": "stream",
     "text": [
      "7995336.222222224 2827.6025573305424\n"
     ]
    }
   ],
   "source": [
    "#Answer to 2.3.2.2\n",
    "\"Variance is the measure of how far the numbers in a dataset are spread away from the mean.\"\n",
    "\"Standard deviate is the average amount of variance among the values in the dataset.\"\n",
    "a = np.array([1, 3, 2, 5, 3, 1, 5, 1, 9000])\n",
    "\n",
    "#Compute the variance of a[]\n",
    "a_variance = np.var(a)\n",
    "\n",
    "#Computer the standard deviation of a[]\n",
    "a_sd = np.std(a)\n",
    "\n",
    "#Print them both\n",
    "print(a_variance, a_sd)\n",
    "\n",
    "\"The variance is higher than the standard deviation.\""
   ]
  },
  {
   "cell_type": "code",
   "execution_count": 27,
   "metadata": {},
   "outputs": [
    {
     "name": "stdout",
     "output_type": "stream",
     "text": [
      "4.0\n"
     ]
    },
    {
     "data": {
      "text/plain": [
       "\"\\nThis statistic can be useful becuase, unlike traditional range, the largest and smallest values don't affect it, so\\nwe get a better sense of the range of the data.\\n\""
      ]
     },
     "execution_count": 27,
     "metadata": {},
     "output_type": "execute_result"
    }
   ],
   "source": [
    "#Answer to 2.3.2.3\n",
    "\"Interquartile range is the difference between the third and first quartiles\"\n",
    "\n",
    "#Compute the first quartile\n",
    "a_Q1 = np.percentile(a, 25)\n",
    "\n",
    "#Computer the third quartile\n",
    "a_Q3 = np.percentile(a, 75)\n",
    "\n",
    "#Find the difference to get the interquartile range\n",
    "a_intrng = a_Q3 - a_Q1\n",
    "\n",
    "#Print the result\n",
    "print(a_intrng)\n",
    "\n",
    "\"\"\"\n",
    "This statistic can be useful becuase, unlike traditional range, the largest and smallest values don't affect it, so\n",
    "we get a better sense of the range of the data.\n",
    "\"\"\""
   ]
  },
  {
   "cell_type": "markdown",
   "metadata": {},
   "source": [
    ">**Ex. 2.3.3**: Covariance and correlation are both measures of trend similarity.\n",
    "1. How do they relate?\n",
    "2. Compute the correlation between `a` and `b = [0, 4, 1, 6, 2, 0, 6, 0, 2]`.\n",
    "3. How does that result change if you remove the last data-point from each list? Why? What *term* do we use for that last value for both `a` and `b`?"
   ]
  },
  {
   "cell_type": "markdown",
   "metadata": {},
   "source": [
    "#Answer to 2.3.3.1\n",
    "\n",
    "Covariance is used to classify the relationship between variables. Correlation is the strength and direction of the relationship. Covarience can also be used to define direction, but not strength."
   ]
  },
  {
   "cell_type": "code",
   "execution_count": 4,
   "metadata": {},
   "outputs": [
    {
     "name": "stdout",
     "output_type": "stream",
     "text": [
      "[18080]\n"
     ]
    }
   ],
   "source": [
    "#Answer to 2.3.3.2\n",
    "\n",
    "#Define a[] and b[]\n",
    "a = np.array([1, 3, 2, 5, 3, 1, 5, 1, 9000])\n",
    "b = np.array([0, 4, 1, 6, 2, 0, 6, 0, 2])\n",
    "\n",
    "#Compute the correlation for a[] and b[]\n",
    "ab_corr = np.correlate(a, b)\n",
    "\n",
    "#Print the result\n",
    "print(ab_corr)"
   ]
  },
  {
   "cell_type": "code",
   "execution_count": 6,
   "metadata": {},
   "outputs": [
    {
     "name": "stdout",
     "output_type": "stream",
     "text": [
      "[80]\n"
     ]
    },
    {
     "data": {
      "text/plain": [
       "'\\nThe correlation is now much lower because now the relationship between a[] and b[] is close to a one to one\\nrelationship, as opposed to when there was a clear outlier in a[]. \\n'"
      ]
     },
     "execution_count": 6,
     "metadata": {},
     "output_type": "execute_result"
    }
   ],
   "source": [
    "#Answer to 2.3.3.3\n",
    "\n",
    "#Remove the last element of a[] and b[]\n",
    "a = np.array([1, 3, 2, 5, 3, 1, 5, 1])\n",
    "b = np.array([0, 4, 1, 6, 2, 0, 6, 0])\n",
    "\n",
    "#Find the new correlation\n",
    "ab_corr_new = np.correlate(a, b)\n",
    "\n",
    "#Print the result\n",
    "print(ab_corr_new)\n",
    "\n",
    "\"\"\"\n",
    "The correlation is now much lower because now the relationship between a[] and b[] is close to a one to one\n",
    "relationship, as opposed to when there was a clear outlier in a[]. \n",
    "\"\"\""
   ]
  },
  {
   "cell_type": "markdown",
   "metadata": {},
   "source": [
    ">**Ex. 2.3.4.EXTRA**: People often use the p-value to gauge the *significance* of a given result. If the p-value of a result is low, the result is significant (which is good) and vice versa. Intuitively, the p-value measures the probabilty that a result *could have been obtained at random*, so you can imagine that if you find that the p-value for some result is HIGH (close to one), regardless of how cool it is, people will not care because, well, you just got lucky with that measurement. I created two lists for you below; you are going to find out if they are *significantly* correlated. You will be using the significance threshold 0.05 (which is arbitrary, disputed, yet very standard in the literature).\n",
    ">\n",
    ">***This exercise will not be included in the assignment. But, you can earn up to 10 extra credit points if you solve it and submit it to the teacher. Your solution must reflect that you have understood the idea of numerical hypothesis testing.***"
   ]
  },
  {
   "cell_type": "code",
   "execution_count": 319,
   "metadata": {
    "ExecuteTime": {
     "end_time": "2019-11-11T09:55:02.163468Z",
     "start_time": "2019-11-11T09:55:02.157608Z"
    }
   },
   "outputs": [],
   "source": [
    "# You can incresae this to make the data more noisy (but let it be 4 for now)\n",
    "noise_level = 4\n",
    "\n",
    "# I'm just seeding the random number generator here, so we can compare results\n",
    "np.random.seed(0)\n",
    "\n",
    "# This is your data\n",
    "x = np.arange(0, 20) + np.random.normal(size=20) * noise_level\n",
    "y = np.arange(0, 20) + np.random.normal(size=20) * noise_level"
   ]
  },
  {
   "cell_type": "code",
   "execution_count": 320,
   "metadata": {
    "ExecuteTime": {
     "end_time": "2019-11-11T09:55:07.822248Z",
     "start_time": "2019-11-11T09:55:07.696184Z"
    }
   },
   "outputs": [
    {
     "data": {
      "image/png": "[encoded data removed]",
      "text/plain": [
       "<Figure size 288x216 with 1 Axes>"
      ]
     },
     "metadata": {
      "needs_background": "light"
     },
     "output_type": "display_data"
    }
   ],
   "source": [
    "# Why not make a scatter plot here, to see what you're working with?\n",
    "plt.figure(figsize=(4, 3))\n",
    "plt.scatter(x, y)\n",
    "plt.show()"
   ]
  },
  {
   "cell_type": "markdown",
   "metadata": {},
   "source": [
    ">1. If you plotted `x` and `y` against each other, you probably noted that it looks like they correlate. Use the method `pearsonr` from `scipy.stats` to **compute the correlation coefficient**. Notice that the method also gives you the p-value of the correlation. For now, we ignore this.\n",
    ">2. So how do we figure out if this correlation strength is significant? \n",
    "The devil's advocate would surely argue, that you could obtain a similar *or stronger* correlation between completely random data.\n",
    "Well, screw you advocate, because we can SHOW that if you randomize THIS data, the correlation strength is almost always lower!\n",
    "To put this in stat-lingo, the devil's advocate believes in the so-called *Null Hypothesis*–that your result is no different from random–and the way we REJECT this acvocate's pessimistic hypothesis, is simply by comparing OUR obtained correlation strength to one obtained from data we know is random, namely the *Null model*.\n",
    "The Null model, in this case just a randomized version of our existing data. \n",
    "Your job, now, is to take `x` and `y`, randomize them (each independently) and compute the correlation coefficient.\n",
    ">3. In 2. you probably found that the correlation coefficient of the Null model was lower than that of your real data.\n",
    "But that was just one example of the Null hypothesis being wrong.\n",
    "The devil's advocate is not convinced and wants more evidence.\n",
    "Compute again the correlation coefficient of the Null model, but do it in a `for` loop 10000 times, and report the fraction of times that this correlation coefficient is greater or equal to the correlation coefficient of your real data.\n",
    "Maybe it will happen in 0% of randomizaion trials, maybe 2%, but hopefully not more than 5%.\n",
    "Yes, you guessed, it, this fraction is indeed the p-value.\n",
    "So is it really significant?\n",
    ">4. Complete the function below that takes as input `noise_level` and computes a p-value. Let `noise_level` vary between 1 and 50 and plot the p-value as a function of `noise_level` so we can see how our result becomes less and less significant as we increase the noise. Two questions: (1) around which value of `noise_level` does the correlation become insignificant, and (2) which p-value does the curve saturate at for large `noise_level`?"
   ]
  },
  {
   "cell_type": "code",
   "execution_count": null,
   "metadata": {},
   "outputs": [],
   "source": [
    "def compute_pval(noise_level, n=10000):\n",
    "\n",
    "    # Seed random number generator\n",
    "    np.random.seed(0)\n",
    "    \n",
    "    # Generate data\n",
    "    x = np.arange(0, 20) + np.random.normal(size=20) * noise_level\n",
    "    y = np.arange(0, 20) + np.random.normal(size=20) * noise_level\n",
    "    \n",
    "    # Unseed the random number generator\n",
    "    np.random.seed(None)\n",
    "    \n",
    "    # Compute the baseline correlation coefficient\n",
    "    r_baseline = pearsonr(x, y)[0]\n",
    "    \n",
    "    # Code with for loop that computes the p-value by randomizing data and\n",
    "    # comparing Pearson correlation to baseline. Should correspond to your\n",
    "    # code from 2.3.4.3."
   ]
  }
 ],
 "metadata": {
  "kernelspec": {
   "display_name": "Python 3 (ipykernel)",
   "language": "python",
   "name": "python3"
  },
  "language_info": {
   "codemirror_mode": {
    "name": "ipython",
    "version": 3
   },
   "file_extension": ".py",
   "mimetype": "text/x-python",
   "name": "python",
   "nbconvert_exporter": "python",
   "pygments_lexer": "ipython3",
   "version": "3.8.10"
  },
  "nav_menu": {},
  "toc": {
   "base_numbering": 1,
   "nav_menu": {},
   "number_sections": false,
   "sideBar": true,
   "skip_h1_title": false,
   "title_cell": "Table of Contents",
   "title_sidebar": "Contents",
   "toc_cell": false,
   "toc_position": {},
   "toc_section_display": "block",
   "toc_window_display": false
  },
  "varInspector": {
   "cols": {
    "lenName": 16,
    "lenType": 16,
    "lenVar": 40
   },
   "kernels_config": {
    "python": {
     "delete_cmd_postfix": "",
     "delete_cmd_prefix": "del ",
     "library": "var_list.py",
     "varRefreshCmd": "print(var_dic_list())"
    },
    "r": {
     "delete_cmd_postfix": ") ",
     "delete_cmd_prefix": "rm(",
     "library": "var_list.r",
     "varRefreshCmd": "cat(var_dic_list()) "
    }
   },
   "types_to_exclude": [
    "module",
    "function",
    "builtin_function_or_method",
    "instance",
    "_Feature"
   ],
   "window_display": false
  }
 },
 "nbformat": 4,
 "nbformat_minor": 2
}
