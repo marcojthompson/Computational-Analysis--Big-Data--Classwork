{
 "cells": [
  {
   "cell_type": "markdown",
   "metadata": {},
   "source": [
    "# Week 4: Machine learning 1"
   ]
  },
  {
   "cell_type": "markdown",
   "metadata": {
    "ExecuteTime": {
     "end_time": "2017-08-23T15:30:03.634114Z",
     "start_time": "2017-08-23T15:30:03.629294Z"
    }
   },
   "source": [
    "Machine learning is a technique for learning patterns in data that enable computers to make decisions and predictions. It's probably one of the hottest skills to master as a scientist or engineer in research or industry today. This week, we'll get an overview of what machine learning is, what it can be used for and what its limits are. Without worrying too much about what goes on behind the scenes, we will play around with a few classifiers in Python and test model performance using cross validation. The exercises today cover:\n",
    "\n",
    "* Feature representation\n",
    "* Model fitting\n",
    "* Model evaluation\n",
    "* Prediction results"
   ]
  },
  {
   "cell_type": "markdown",
   "metadata": {},
   "source": [
    "## Exercises"
   ]
  },
  {
   "cell_type": "markdown",
   "metadata": {},
   "source": [
    "We want to predict whether a character is a hero or a villain from information that we can extract from their markup. This is a large problem that includes some data wrangling, model fitting and a bit of evaluation. Therefore the problem is split into parts."
   ]
  },
  {
   "cell_type": "markdown",
   "metadata": {},
   "source": [
    "### Part 1: Feature representation\n",
    "In it's raw format, the data cannot be given to a machine learning algorithm. What we must do is extract features from the data and put them into a structured format. This is the same as what we did when we looked at a dog (the data) and extracted into a matrix whether it was fluffy, sad looking, etc. (the features). The feature we will extract here is **team alliances**.\n",
    "\n",
    "We can represent the team alliances of each character as a row in a matrix where each column corresponds to a particular team. That should look something like this (numbers are made up):\n",
    "\n",
    "<img src=\"http://ulfaslak.com/computational_analysis_of_big_data/exer_figures/example_boa.png\" width=\"400\"/>\n",
    "\n",
    "**Note**: The following exercises relies on the dataset you produced in Ex. 3.1.2 (character markup stored on your computer). If you didn't manage to produce the dataset [use this](https://github.com/dhsvendsen/practical_data_science/tree/master/data) and go back and complete it at a later time so that you get the most out of this session."
   ]
  },
  {
   "cell_type": "markdown",
   "metadata": {},
   "source": [
    "> **Ex.4.1.1 (solved)**: Write a function called `get_alliances` that takes the name of a character and returns a list of teams that the character is allied with. Print the alliances of Scarlet Witch.\n",
    ">\n",
    ">*Hint: There is a place in the character markup where you'll find the team affiliations and you want to write some code that can extract that. The affiliations are not always listed the same way so you should probably try to eyeball some of the documents to get a feel for how the formatting can look.*"
   ]
  },
  {
   "cell_type": "code",
   "execution_count": 5,
   "metadata": {
    "ExecuteTime": {
     "end_time": "2020-01-12T13:29:12.372855Z",
     "start_time": "2020-01-12T13:29:12.366400Z"
    }
   },
   "outputs": [],
   "source": [
    "import re, os\n",
    "\n",
    "def get_alliances(char, faction=None):\n",
    "    \"\"\"Return list of alliances for Marvel character.\n",
    "    \n",
    "    Input\n",
    "    -----\n",
    "        char : str\n",
    "            A valid character name of any faction\n",
    "        faction : str\n",
    "            Either 'heroes', 'villains', 'ambiguous' or None. If None, the function\n",
    "            looks through the respective faction folders to figure out which faction\n",
    "            `char` belongs to. The function is therefore FASTER if `faction` is provided\n",
    "    \n",
    "    Output\n",
    "    ------\n",
    "        out : list of strings\n",
    "            List of alliance names\n",
    "    \"\"\"\n",
    "    \n",
    "    # If faction is not provided, figure out which faction it is by looping through\n",
    "    # folders of character names\n",
    "    if faction is None:\n",
    "        for faction in [\"heroes\", \"villains\", \"ambiguous\"]:\n",
    "            if char + \".txt\" in os.listdir(\"../../data/%s\" % faction):\n",
    "                break\n",
    "    \n",
    "    # Load character markup\n",
    "    with open(\"../../data/%s/%s.txt\" % (faction, char)) as fp:\n",
    "         markup = fp.read()\n",
    "\n",
    "    # Get alliance field\n",
    "    alliances_field = re.findall(r\"\\| *alliances[\\w\\W]+?(?=\\|.+=|\\}\\})\", markup)\n",
    "    if alliances_field == []:\n",
    "        return []\n",
    "\n",
    "    # Extract teams from alliance field\n",
    "    return [\n",
    "        t[2:-1]\n",
    "        for t in re.findall(r\"\\[\\[.+?[\\]\\|\\#]\", alliances_field[0][10:])\n",
    "        if not 'List of' in t\n",
    "    ]"
   ]
  },
  {
   "cell_type": "code",
   "execution_count": 6,
   "metadata": {
    "ExecuteTime": {
     "end_time": "2020-01-12T13:29:13.664065Z",
     "start_time": "2020-01-12T13:29:13.652907Z"
    },
    "scrolled": true
   },
   "outputs": [
    {
     "data": {
      "text/plain": [
       "['KGB', 'Advanced Idea Mechanics', 'Masters of Evil', 'Lethal Legion']"
      ]
     },
     "execution_count": 6,
     "metadata": {},
     "output_type": "execute_result"
    }
   ],
   "source": [
    "get_alliances(\"Abomination (character)\")"
   ]
  },
  {
   "cell_type": "markdown",
   "metadata": {},
   "source": [
    "> **Ex.4.1.2**: Produce a **sorted** (i.e. use the ``.sort()`` method) list called `all_teams` that contains all teams in the entire Marvel universe. Print the first 10."
   ]
  },
  {
   "cell_type": "code",
   "execution_count": 7,
   "metadata": {},
   "outputs": [
    {
     "name": "stderr",
     "output_type": "stream",
     "text": [
      "446it [00:01, 255.91it/s]\n",
      "649it [00:02, 258.84it/s]\n",
      "105it [00:00, 252.15it/s]"
     ]
    },
    {
     "name": "stdout",
     "output_type": "stream",
     "text": [
      "['1991 in comics', 'A-Force', 'A-Next', 'A.I. Army', 'A.R.M.O.R.', 'Acolytes (comics)', 'Advanced Idea Mechanics', 'Agents of Atlas', 'Agents of Fortune (comics)', 'Alchemax']\n"
     ]
    },
    {
     "name": "stderr",
     "output_type": "stream",
     "text": [
      "\n"
     ]
    }
   ],
   "source": [
    "#Answer to 4.1.2\n",
    "import os\n",
    "from tqdm import tqdm\n",
    "from collections import defaultdict\n",
    "\n",
    "#Create a dictionary to store all the alliances and how many characters are in them\n",
    "all_alliances_member_counts = defaultdict()\n",
    "\n",
    "#Create a list of categories to make the code more concise \n",
    "character_categories = ['heroes', 'villains', 'ambiguous']\n",
    "\n",
    "#Iterate through the folder for each character type\n",
    "for character_category in character_categories:\n",
    "    filepath = '../../data/%s'%character_category\n",
    "    \n",
    "    #iterate through all the files and get their names\n",
    "    for file in tqdm(os.scandir(filepath)):\n",
    "        f = open(file, \"r\")\n",
    "\n",
    "        #Make sure we access the file without any issues\n",
    "        try:\n",
    "            alliances = get_alliances(f.name.split(\"/\")[-1][0:-4], character_category)\n",
    "        except:\n",
    "            print(\"There was a problem accessing %s's file.\"%f.name.split(\"/\")[-1][0:-4])\n",
    "            break\n",
    "        \n",
    "        #Check if the alliance exists already, if not add it to the dict, if so add it its member count\n",
    "        for i in alliances:\n",
    "            if i not in list(all_alliances_member_counts.keys()):\n",
    "                all_alliances_member_counts[i] = 0\n",
    "            else:\n",
    "                all_alliances_member_counts[i] += 1\n",
    "\n",
    "\n",
    "#Create a list that will hold all the alliances(keys) from the dictionary\n",
    "all_teams = list(all_alliances_member_counts.keys())\n",
    "\n",
    "#Sort and print the first 10\n",
    "all_teams.sort()\n",
    "print(all_teams[0:10])"
   ]
  },
  {
   "cell_type": "markdown",
   "metadata": {},
   "source": [
    "> **Ex.4.1.3**: Write a function that takes the name of a character and returns a vector representation of the team alliances for that character. The length of the returned list will be `len(all_teams)` and have 0s in the places corresponding to teams that the character is not on, and 1s in the places corresponding to teams the character is on. It may look something like:\n",
    ">\n",
    ">        [0, 0, 0, 0, 0, 1, 0, 0, ..., 0]\n",
    ">\n",
    "> Print the sum of the list returned when the input to the function is \"Scarlet Witch\". Show that this sum is equal to `len(get_alliances(\"Scarlet Witch\"))`."
   ]
  },
  {
   "cell_type": "code",
   "execution_count": 9,
   "metadata": {},
   "outputs": [],
   "source": [
    "#Answer to 4.1.3\n",
    "\n",
    "#Method to create and return a vector indicating if a character is in an alliance correspinding to the position in the vector\n",
    "def get_character_team_vector(character, faction = None):\n",
    "    #List of all alliances the given character is a part of\n",
    "    list_of_alliances = get_alliances(character, faction)\n",
    "    list_of_alliances.sort()\n",
    "    \n",
    "    #List of zeros that correspond to possible alliances characters can be a part of\n",
    "    is_in_alliance = list(zip(all_teams, [0 for i in range(len(all_teams))]))\n",
    "    \n",
    "    #Zip() creates tuples, but we need to be able to modify the values, so convert the tuples into lists\n",
    "    is_in_alliance = [list(i) for i in is_in_alliance]\n",
    "        \n",
    "    #For each alliance, check if the character is in it, changing the associated value to 1 if so\n",
    "    for i in is_in_alliance:\n",
    "        if i[0] in list_of_alliances:\n",
    "            i[1] = 1\n",
    "                \n",
    "    return [i[1] for i in is_in_alliance]\n",
    "\n",
    "#Check to make sure it works\n",
    "assert(len(get_alliances(\"Scarlet Witch\")) == sum(get_character_team_vector(\"Scarlet Witch\")))\n",
    "        "
   ]
  },
  {
   "cell_type": "markdown",
   "metadata": {
    "ExecuteTime": {
     "end_time": "2017-08-23T14:01:10.834257Z",
     "start_time": "2017-08-23T14:01:10.826472Z"
    }
   },
   "source": [
    "> **Ex. 4.1.4**: Vectorize and save your data:\n",
    "1. Create a feature matrix (a \"team alliance matrix\") similar in form to the matrix illustrated at the top of this notebook, in that every row corresponds to a character and every column a team. In a seperate *target* array: store whether characters are villains (denote by 0), heroes (denote by 1) or ambiguous (denote by 2). **Do not include characters that have no team alliances**. The number of rows in your feature matrix should equal the length of the target array. **Print their shapes to show that they match each other.**"
   ]
  },
  {
   "cell_type": "code",
   "execution_count": 10,
   "metadata": {
    "scrolled": false
   },
   "outputs": [
    {
     "name": "stderr",
     "output_type": "stream",
     "text": [
      "446it [00:02, 213.69it/s]\n"
     ]
    },
    {
     "name": "stdout",
     "output_type": "stream",
     "text": [
      "Added 297 heroes to the team alliance matrix.\n"
     ]
    },
    {
     "name": "stderr",
     "output_type": "stream",
     "text": [
      "649it [00:02, 265.78it/s]\n"
     ]
    },
    {
     "name": "stdout",
     "output_type": "stream",
     "text": [
      "Added 329 villains to the team alliance matrix.\n"
     ]
    },
    {
     "name": "stderr",
     "output_type": "stream",
     "text": [
      "105it [00:00, 227.28it/s]"
     ]
    },
    {
     "name": "stdout",
     "output_type": "stream",
     "text": [
      "Added 85 ambiguous to the team alliance matrix.\n",
      "711\n",
      "711\n",
      "439\n"
     ]
    },
    {
     "name": "stderr",
     "output_type": "stream",
     "text": [
      "\n"
     ]
    }
   ],
   "source": [
    "#Answer to 4.1.4.1\n",
    "import numpy as np\n",
    "\n",
    "#Create the array which will store the alliances matrixes for all the teams.\n",
    "#Create a scond array to keep track of the names of characters added(will be needed later)\n",
    "#Create the\n",
    "team_alliance_matrix = []\n",
    "team_alliance_matrix_names = []\n",
    "character_alignment_array = []\n",
    "\n",
    "#Create a list of categories, associated numbers, to make the code more concise \n",
    "character_categories = ['heroes', 'villains', 'ambiguous']\n",
    "character_category_numbers = [1, 0, 2]\n",
    "i = 0\n",
    "\n",
    "#Create a variable to keep track of how many characters actually have alliances\n",
    "num_chars_added = 0\n",
    "\n",
    "#Iterate through the folder for each character type\n",
    "for character_category in character_categories:\n",
    "    filepath = '../../data/%s'%character_category\n",
    "    \n",
    "    #iterate through all the files and get their names\n",
    "    for file in tqdm(os.scandir(filepath)):\n",
    "        f = open(file, \"r\")\n",
    "        \n",
    "        #First check to see if a given character has any alliances, skip them if not\n",
    "        alliances = get_alliances(f.name.split(\"/\")[-1][0:-4], character_category)\n",
    "        if len(alliances) == 0:\n",
    "            continue\n",
    "            \n",
    "        #Make sure we access the file without any issues\n",
    "        try:\n",
    "            character_alliance_matrix = get_character_team_vector(f.name.split(\"/\")[-1][0:-4], character_category)\n",
    "        except:\n",
    "            print(\"There was a problem accessing %s's file.\"%f.name.split(\"/\")[-1][0:-4])\n",
    "            break\n",
    "        \n",
    "        #Add the new character alliance matrix to the general list\n",
    "        team_alliance_matrix.append(character_alliance_matrix)\n",
    "        \n",
    "        #Add the character allignment to the character allignment array\n",
    "        character_alignment_array.append(character_category_numbers[i])\n",
    "        num_chars_added += 1\n",
    "        \n",
    "        #Add the charater name to the list of characters that acually have alliances\n",
    "        team_alliance_matrix_names.append(f.name.split(\"/\")[-1][0:-4])\n",
    "    \n",
    "    #Switch to the next character allignment number\n",
    "    i += 1\n",
    "    \n",
    "    #To see how many characters actually had alliances in the first place\n",
    "    print(\"Added \" + str(num_chars_added) + \" %s to the team alliance matrix.\"%character_category) \n",
    "    num_chars_added = 0\n",
    "\n",
    "assert(len(team_alliance_matrix) == len(character_alignment_array))\n",
    "print(len(team_alliance_matrix))\n",
    "print(len(character_alignment_array))\n",
    "print(len(team_alliance_matrix[0]))"
   ]
  },
  {
   "cell_type": "markdown",
   "metadata": {},
   "source": [
    "2. Create a new `pandas.DataFrame` called `data` that stores all this data. Rows should be indexed with character names, columns should be indexed team names and the rightmost column should be the target array. [Here is what it should look like](https://dhsvendsen.github.io/images/BD_4_1_4_2.png) (depending on the data you were able to scrape from wikipedia). Save this dataframe as a CSV file to a local folder. Load it again and **show that it looks right** (don't use `print`!), you will need it in the coming weeks."
   ]
  },
  {
   "cell_type": "code",
   "execution_count": 7,
   "metadata": {},
   "outputs": [
    {
     "name": "stdout",
     "output_type": "stream",
     "text": [
      "                 Abomination (character)  Adam Warlock  Ajak  Amadeus Cho  \\\n",
      "1991 in comics                         0             0     0            0   \n",
      "A-Force                                0             0     0            0   \n",
      "A-Next                                 0             0     0            0   \n",
      "A.I. Army                              0             0     0            0   \n",
      "A.R.M.O.R.                             0             0     0            0   \n",
      "...                                  ...           ...   ...          ...   \n",
      "Young Avengers                         0             0     0            0   \n",
      "Young Masters                          0             0     0            0   \n",
      "Young X-Men                            0             0     0            0   \n",
      "Zodiac (comics)                        0             0     0            0   \n",
      "faction                                1             1     1            1   \n",
      "\n",
      "                 Amanda Sefton  Anole (comics)  Anya Corazon  \\\n",
      "1991 in comics               0               0             0   \n",
      "A-Force                      0               0             0   \n",
      "A-Next                       0               0             0   \n",
      "A.I. Army                    0               0             0   \n",
      "A.R.M.O.R.                   0               0             0   \n",
      "...                        ...             ...           ...   \n",
      "Young Avengers               0               0             0   \n",
      "Young Masters                0               0             0   \n",
      "Young X-Men                  0               1             0   \n",
      "Zodiac (comics)              0               0             0   \n",
      "faction                      1               1             1   \n",
      "\n",
      "                 Arabian Knight (Marvel Comics)  Backhand (character)  \\\n",
      "1991 in comics                                0                     0   \n",
      "A-Force                                       0                     0   \n",
      "A-Next                                        0                     0   \n",
      "A.I. Army                                     0                     0   \n",
      "A.R.M.O.R.                                    0                     0   \n",
      "...                                         ...                   ...   \n",
      "Young Avengers                                0                     0   \n",
      "Young Masters                                 0                     0   \n",
      "Young X-Men                                   0                     0   \n",
      "Zodiac (comics)                               0                     0   \n",
      "faction                                       1                     1   \n",
      "\n",
      "                 Base (comics)  ...  Torpedo (Marvel Comics)  Triton (comics)  \\\n",
      "1991 in comics               0  ...                        0                0   \n",
      "A-Force                      0  ...                        0                0   \n",
      "A-Next                       0  ...                        0                0   \n",
      "A.I. Army                    0  ...                        0                0   \n",
      "A.R.M.O.R.                   0  ...                        0                0   \n",
      "...                        ...  ...                      ...              ...   \n",
      "Young Avengers               0  ...                        0                0   \n",
      "Young Masters                0  ...                        0                0   \n",
      "Young X-Men                  0  ...                        0                0   \n",
      "Zodiac (comics)              0  ...                        0                0   \n",
      "faction                      1  ...                        2                2   \n",
      "\n",
      "                 Venom (character)  Vertigo (Marvel Comics)  \\\n",
      "1991 in comics                   0                        0   \n",
      "A-Force                          0                        0   \n",
      "A-Next                           0                        0   \n",
      "A.I. Army                        0                        0   \n",
      "A.R.M.O.R.                       0                        0   \n",
      "...                            ...                      ...   \n",
      "Young Avengers                   0                        0   \n",
      "Young Masters                    0                        0   \n",
      "Young X-Men                      0                        0   \n",
      "Zodiac (comics)                  0                        0   \n",
      "faction                          2                        2   \n",
      "\n",
      "                 Vulcan (Marvel Comics)  Wild Child (character)  \\\n",
      "1991 in comics                        0                       0   \n",
      "A-Force                               0                       0   \n",
      "A-Next                                0                       0   \n",
      "A.I. Army                             0                       0   \n",
      "A.R.M.O.R.                            0                       0   \n",
      "...                                 ...                     ...   \n",
      "Young Avengers                        0                       0   \n",
      "Young Masters                         0                       0   \n",
      "Young X-Men                           0                       0   \n",
      "Zodiac (comics)                       0                       0   \n",
      "faction                               2                       2   \n",
      "\n",
      "                 Will o' the Wisp (comics)  Wither (comics)  Xorn  \\\n",
      "1991 in comics                           0                0     0   \n",
      "A-Force                                  0                0     0   \n",
      "A-Next                                   0                0     0   \n",
      "A.I. Army                                0                0     0   \n",
      "A.R.M.O.R.                               0                0     0   \n",
      "...                                    ...              ...   ...   \n",
      "Young Avengers                           0                0     0   \n",
      "Young Masters                            0                0     0   \n",
      "Young X-Men                              0                0     0   \n",
      "Zodiac (comics)                          0                0     0   \n",
      "faction                                  2                2     2   \n",
      "\n",
      "                 Yellowjacket (Marvel Comics)  \n",
      "1991 in comics                              0  \n",
      "A-Force                                     0  \n",
      "A-Next                                      0  \n",
      "A.I. Army                                   0  \n",
      "A.R.M.O.R.                                  0  \n",
      "...                                       ...  \n",
      "Young Avengers                              0  \n",
      "Young Masters                               0  \n",
      "Young X-Men                                 0  \n",
      "Zodiac (comics)                             0  \n",
      "faction                                     2  \n",
      "\n",
      "[440 rows x 711 columns]\n"
     ]
    }
   ],
   "source": [
    "#Answer to 4.1.4.2\n",
    "import pandas as pd\n",
    "\n",
    "#First we have to add the faction attribute to the end of all the team vectors\n",
    "if len(team_alliance_matrix[0]) < 440: #to make sure we only run it once\n",
    "    for i in range(len(team_alliance_matrix)):\n",
    "        team_alliance_matrix[i].append(character_alignment_array[i])\n",
    "\n",
    "#Create a dictionary with all the characters and their respective team vectors\n",
    "#to make it easier to get them into a data frame\n",
    "team_alliance_dict = {}\n",
    "\n",
    "#Need to add this to the teams list to account for the extra value in the team vector\n",
    "if len(all_teams) < 440:\n",
    "    all_teams.append(\"faction\")\n",
    "\n",
    "#Add the chracters as keys, team vector as value\n",
    "for i in range(len(team_alliance_matrix)):\n",
    "    team_alliance_dict[str(team_alliance_matrix_names[i])] = team_alliance_matrix[i]\n",
    "    \n",
    "#Create the dataframe, populate with the alliances as the named indexes\n",
    "data = pd.DataFrame(team_alliance_dict, index = all_teams)\n",
    "\n",
    "print(data)\n",
    "\n",
    "#Create the csv file, add it to the data directory\n",
    "data.to_csv(r'../../data/data.csv')"
   ]
  },
  {
   "cell_type": "markdown",
   "metadata": {},
   "source": [
    "### Part 2: Model fitting"
   ]
  },
  {
   "cell_type": "markdown",
   "metadata": {},
   "source": [
    "> **Ex. 4.2.1**: Take the feature matrix and target array that you created in Ex. 4.1.4 and **remove the rows that correspond to ambiguous characters**. Now, train a classifier for predicting hero or villain on all of this data and test its accuracy on the same data you trained on.\n",
    ">\n",
    ">* If your team alliance matrix is `X_ta` and your target array is `y_ta` you can do this by instantiating a model like:\n",
    ">\n",
    ">        from sklearn.naive_bayes import BernoulliNB\n",
    ">        model = BernoulliNB()\n",
    ">        model.fit(X_ta, y_ta)  # <--- This is the training step\n",
    ">        \n",
    "> *Note:* The `BernoulliNB` is a version of the Naive Bayes classifier which associates certain features with labels and asks what the probability of a label for a data point is given its features. You are free to use any other classifier if you want. Popular ones are trees, random forests, support vector machines, feed forward neural networks, logistic regression, and the list goes on. With `sklearn`, they are just as easy to employ as the `BernoulliNB` classifier.\n",
    ">\n",
    ">\n",
    ">1. Test the accuracy of your model. Report the *training accuracy* of your model—that is testing on the same data that you trained the model on. \n",
    ">\n",
    "> *Hint: `model.predict(X_ta)` will give you predictions for each datapoint.*"
   ]
  },
  {
   "cell_type": "code",
   "execution_count": 35,
   "metadata": {},
   "outputs": [
    {
     "data": {
      "text/plain": [
       "BernoulliNB()"
      ]
     },
     "execution_count": 35,
     "metadata": {},
     "output_type": "execute_result"
    }
   ],
   "source": [
    "#Answer to 4.2.1.intro\n",
    "from sklearn.naive_bayes import BernoulliNB\n",
    "\n",
    "#First remove all the ambiguous characters from the team alliance matrix and allignment array\n",
    "team_alliance_matrix_no_amb = []\n",
    "character_alignment_array_no_amb = []\n",
    "\n",
    "for i in range(len(team_alliance_matrix)):\n",
    "    if character_alignment_array[i] != 2:\n",
    "        team_alliance_matrix_no_amb.append(team_alliance_matrix[i])\n",
    "        character_alignment_array_no_amb.append(character_alignment_array[i])\n",
    "        \n",
    "#Create and train the model\n",
    "model = BernoulliNB()\n",
    "model.fit(team_alliance_matrix_no_amb, character_alignment_array_no_amb)\n"
   ]
  },
  {
   "cell_type": "code",
   "execution_count": 41,
   "metadata": {
    "scrolled": true
   },
   "outputs": [
    {
     "name": "stdout",
     "output_type": "stream",
     "text": [
      "Our model has an accuracy of 0.9984025559105432.\n",
      "[0 1 1 1 1 1 1 1 1 1 1 1 1 1 1 1 1 1 1 1 1 1 1 1 1 1 1 1 1 1 1 1 1 1 1 1 1\n",
      " 1 1 1 1 1 1 1 1 1 1 1 1 1 1 1 1 1 1 1 1 1 1 1 1 1 1 1 1 1 1 1 1 1 1 1 1 1\n",
      " 1 1 1 1 1 1 1 1 1 1 1 1 1 1 1 1 1 1 1 1 1 1 1 1 1 1 1 1 1 1 1 1 1 1 1 1 1\n",
      " 1 1 1 1 1 1 1 1 1 1 1 1 1 1 1 1 1 1 1 1 1 1 1 1 1 1 1 1 1 1 1 1 1 1 1 1 1\n",
      " 1 1 1 1 1 1 1 1 1 1 1 1 1 1 1 1 1 1 1 1 1 1 1 1 1 1 1 1 1 1 1 1 1 1 1 1 1\n",
      " 1 1 1 1 1 1 1 1 1 1 1 1 1 1 1 1 1 1 1 1 1 1 1 1 1 1 1 1 1 1 1 1 1 1 1 1 1\n",
      " 1 1 1 1 1 1 1 1 1 1 1 1 1 1 1 1 1 1 1 1 1 1 1 1 1 1 1 1 1 1 1 1 1 1 1 1 1\n",
      " 1 1 1 1 1 1 1 1 1 1 1 1 1 1 1 1 1 1 1 1 1 1 1 1 1 1 1 1 1 1 1 1 1 1 1 1 1\n",
      " 1 0 0 0 0 0 0 0 0 0 0 0 0 0 0 0 0 0 0 0 0 0 0 0 0 0 0 0 0 0 0 0 0 0 0 0 0\n",
      " 0 0 0 0 0 0 0 0 0 0 0 0 0 0 0 0 0 0 0 0 0 0 0 0 0 0 0 0 0 0 0 0 0 0 0 0 0\n",
      " 0 0 0 0 0 0 0 0 0 0 0 0 0 0 0 0 0 0 0 0 0 0 0 0 0 0 0 0 0 0 0 0 0 0 0 0 0\n",
      " 0 0 0 0 0 0 0 0 0 0 0 0 0 0 0 0 0 0 0 0 0 0 0 0 0 0 0 0 0 0 0 0 0 0 0 0 0\n",
      " 0 0 0 0 0 0 0 0 0 0 0 0 0 0 0 0 0 0 0 0 0 0 0 0 0 0 0 0 0 0 0 0 0 0 0 0 0\n",
      " 0 0 0 0 0 0 0 0 0 0 0 0 0 0 0 0 0 0 0 0 0 0 0 0 0 0 0 0 0 0 0 0 0 0 0 0 0\n",
      " 0 0 0 0 0 0 0 0 0 0 0 0 0 0 0 0 0 0 0 0 0 0 0 0 0 0 0 0 0 0 0 0 0 0 0 0 0\n",
      " 0 0 0 0 0 0 0 0 0 0 0 0 0 0 0 0 0 0 0 0 0 0 0 0 0 0 0 0 0 0 0 0 0 0 0 0 0\n",
      " 0 0 0 0 0 0 0 0 0 0 0 0 0 0 0 0 0 0 0 0 0 0 0 0 0 0 0 0 0 0 0 0 0 0]\n",
      "329 296 1 0\n"
     ]
    }
   ],
   "source": [
    "#Answer to 4.2.1.1\n",
    "\n",
    "#We will test the model on all the data from the team alliance matrix\n",
    "faction_predictions = model.predict(team_alliance_matrix_no_amb)\n",
    "\n",
    "#Compute the number of true positives, false positives, true negavites, and false negatives\n",
    "true_positives, true_negatives, false_positives, false_negatives = 0, 0, 0, 0\n",
    "for i in range(len(faction_predictions)):\n",
    "    if team_alliance_matrix[i][-1] == 0 and faction_predictions[i] == 0:\n",
    "        true_positives += 1\n",
    "    if team_alliance_matrix[i][-1] == 1 and faction_predictions[i] == 1: \n",
    "        true_negatives += 1\n",
    "    if team_alliance_matrix[i][-1] == 1 and faction_predictions[i] == 0:\n",
    "        false_positives += 1\n",
    "    if team_alliance_matrix[i][-1] == 0 and faction_predictions[i] == 1:\n",
    "        false_negatives += 1\n",
    "        \n",
    "#Compute the accuracy\n",
    "accuracy = (true_positives + true_negatives) / (true_positives + true_negatives + false_positives + false_negatives)\n",
    "\n",
    "#Print the Accuracy\n",
    "print(\"Our model has an accuracy of \" + str(accuracy) + \".\")\n",
    "print(faction_predictions)\n",
    "print(true_positives, true_negatives, false_positives, false_negatives)"
   ]
  },
  {
   "cell_type": "markdown",
   "metadata": {},
   "source": [
    "2. Which *baseline accuracy* does this model have to compete with? In other words, what accuracy would you get if you always predicted the majority class?"
   ]
  },
  {
   "cell_type": "code",
   "execution_count": 30,
   "metadata": {},
   "outputs": [
    {
     "name": "stdout",
     "output_type": "stream",
     "text": [
      "Of the 626 characters, 0.5255591054313099 percent of them are villains.\n"
     ]
    }
   ],
   "source": [
    "#Answer to 4.2.1.2\n",
    "\n",
    "#The majority class is the villains, and the baseline accuracy \n",
    "#would be the number of villains over the total characters in question\n",
    "\n",
    "#From 4.1.4.1 we know that 329 of the 626 characters are villains, so \n",
    "#compute and print the percentage of characters that are villains\n",
    "\n",
    "print(\"Of the 626 characters, \" + str(329/626) + \" percent of them are villains.\")"
   ]
  },
  {
   "cell_type": "markdown",
   "metadata": {},
   "source": [
    "3. Report the precision, recall and F1 scores, with respect to the **minority class**."
   ]
  },
  {
   "cell_type": "code",
   "execution_count": 31,
   "metadata": {},
   "outputs": [
    {
     "name": "stdout",
     "output_type": "stream",
     "text": [
      "Precision: 1.0 Recall: 0.9966329966329966 F1_score: 0.9983136593591906\n"
     ]
    }
   ],
   "source": [
    "#Answer to 4.2.1.3\n",
    "\n",
    "#Compute the precision, recall, and f1 score\n",
    "precision = true_positives / (true_positives + false_positives)\n",
    "recall = true_positives / (true_positives + false_negatives)\n",
    "f1_score = (2*precision*recall) / (precision + recall) \n",
    "\n",
    "#Print the results\n",
    "print(\"Precision: \" + str(precision), \"Recall: \" + str(recall), \"F1_score: \" + str(f1_score))"
   ]
  },
  {
   "cell_type": "markdown",
   "metadata": {},
   "source": [
    "### Part 3: Model evaluation"
   ]
  },
  {
   "cell_type": "markdown",
   "metadata": {},
   "source": [
    "> **Ex. 4.3.1**: Investigate how well your model generalizes. You may have noticed that the performance seemed a little too good to be true in Ex 4.2.1.\n",
    "1. Why did you get such a high accuracy in the previous exercise?\n",
    ">\n",
    "> *Hint: Watch out for unbalanced class proportions! You may want to randomly reorder the rows of your datapoints and target labels so your training and test sets have the same amount of heroes and villains.*"
   ]
  },
  {
   "cell_type": "markdown",
   "metadata": {},
   "source": [
    "#Answer to 4.3.1.1\n",
    "\n",
    "The reason our accuracy was so high is because we tested on the exact data we trained on. The model knew exactly what factors determined a given character's faction, so it was really good a predicting it."
   ]
  },
  {
   "cell_type": "markdown",
   "metadata": {},
   "source": [
    "2. Split your data into a test and training set of equal size. Train the model only on the training set and report its accuracy and F1 score (for minority class) on both the training and test sets."
   ]
  },
  {
   "cell_type": "code",
   "execution_count": 44,
   "metadata": {},
   "outputs": [
    {
     "name": "stdout",
     "output_type": "stream",
     "text": [
      "When testing on the designated testing dataset, we attained an accuracy of 0.5015974440894568 and an F1 score of 0.9983136593591906.\n",
      "When we switched back to the training data, we attained an accuracy of 0.43769968051118213 and an F1 score of 0.9983136593591906.\n"
     ]
    }
   ],
   "source": [
    "#Answer to 4.3.1.2\n",
    "import random\n",
    "\n",
    "#Add the alignment to the end of the team vectors for shuffling(we need them to have the same order)\n",
    "if len(team_alliance_matrix_no_amb[0]) != 440:\n",
    "    for i in range(len(team_alliance_matrix_no_amb)):\n",
    "        team_alliance_matrix_no_amb[i].append(character_alignment_array_no_amb[i])\n",
    "\n",
    "#Shuffle, split in two\n",
    "random.shuffle(team_alliance_matrix_no_amb)\n",
    "team_alliance_matrix_no_amb_training = team_alliance_matrix_no_amb[(len(team_alliance_matrix_no_amb)//2):]\n",
    "team_alliance_matrix_no_amb_testing = team_alliance_matrix_no_amb[:(len(team_alliance_matrix_no_amb)//2)]\n",
    "\n",
    "#Recreate the alignment vector\n",
    "character_alignment_array_no_amb_training = [i[-1] for i in team_alliance_matrix_no_amb_training]\n",
    "character_alignment_array_no_amb_testing = [j[-1] for j in team_alliance_matrix_no_amb_testing]\n",
    "\n",
    "#Create and train the model\n",
    "model = BernoulliNB()\n",
    "model.fit(team_alliance_matrix_no_amb_training, character_alignment_array_no_amb_training)\n",
    "\n",
    "##########################################################################################################\n",
    "\n",
    "#We will test the model first on the test data\n",
    "faction_predictions_testing = model.predict(team_alliance_matrix_no_amb_testing)\n",
    "\n",
    "#Compute the number of true positives, false positives, true negavites, and false negatives\n",
    "true_positives, true_negatives, false_positives, false_negatives = 0, 0, 0, 0\n",
    "for i in range(len(faction_predictions_testing)):\n",
    "    if team_alliance_matrix[i][-1] == 0 and faction_predictions_testing[i] == 0:\n",
    "        true_positives += 1\n",
    "    if team_alliance_matrix[i][-1] == 1 and faction_predictions_testing[i] == 1: \n",
    "        true_negatives += 1\n",
    "    if team_alliance_matrix[i][-1] == 1 and faction_predictions_testing[i] == 0:\n",
    "        false_positives += 1\n",
    "    if team_alliance_matrix[i][-1] == 0 and faction_predictions_testing[i] == 1:\n",
    "        false_negatives += 1\n",
    "        \n",
    "#Compute the accuracy\n",
    "accuracy_testing = (true_positives + true_negatives) / (true_positives + true_negatives + false_positives + false_negatives)\n",
    "\n",
    "#Compute the F1 Score\n",
    "precision_testing = true_positives / (true_positives + false_positives)\n",
    "recal_testing = true_positives / (true_positives + false_negatives)\n",
    "f1_score_testing = (2*precision*recall) / (precision + recall)\n",
    "\n",
    "##########################################################################################################\n",
    "\n",
    "#Now we test on the training data\n",
    "faction_predictions_training = model.predict(team_alliance_matrix_no_amb_training)\n",
    "\n",
    "#Compute the number of true positives, false positives, true negavites, and false negatives\n",
    "true_positives, true_negatives, false_positives, false_negatives = 0, 0, 0, 0\n",
    "for i in range(len(faction_predictions_training)):\n",
    "    if team_alliance_matrix[i][-1] == 0 and faction_predictions_training[i] == 0:\n",
    "        true_positives += 1\n",
    "    if team_alliance_matrix[i][-1] == 1 and faction_predictions_training[i] == 1: \n",
    "        true_negatives += 1\n",
    "    if team_alliance_matrix[i][-1] == 1 and faction_predictions_training[i] == 0:\n",
    "        false_positives += 1\n",
    "    if team_alliance_matrix[i][-1] == 0 and faction_predictions_training[i] == 1:\n",
    "        false_negatives += 1\n",
    "        \n",
    "#Compute the accuracy\n",
    "accuracy_training = (true_positives + true_negatives) / (true_positives + true_negatives + false_positives + false_negatives)\n",
    "\n",
    "#Compute the F1 Score\n",
    "precision_training = true_positives / (true_positives + false_positives)\n",
    "recal_training = true_positives / (true_positives + false_negatives)\n",
    "f1_score_training = (2*precision*recall) / (precision + recall)\n",
    "\n",
    "\n",
    "#Print the results\n",
    "print(\"When testing on the designated testing dataset, we attained an accuracy of \" + str(accuracy_testing) + \n",
    "     \" and an F1 score of \" + str(f1_score_testing) + \".\")\n",
    "print(\"When we switched back to the training data, we attained an accuracy of \" + str(accuracy_training) + \n",
    "     \" and an F1 score of \" + str(f1_score_training) + \".\")"
   ]
  },
  {
   "cell_type": "markdown",
   "metadata": {},
   "source": [
    "3. Comment on the difference you observe.\n"
   ]
  },
  {
   "cell_type": "markdown",
   "metadata": {},
   "source": [
    "#Answer to 4.3.1.3\n",
    "\n",
    "The model is now much less accurate because it doesn't have access to all the data when training, so it doesn't \"know all the answers of the top of its head.\" "
   ]
  },
  {
   "cell_type": "markdown",
   "metadata": {},
   "source": [
    "> **Ex. 4.3.2**: Implement cross validation using the [`sklearn.model_selection.KFold`](https://scikit-learn.org/stable/modules/generated/sklearn.model_selection.KFold.html) method. The performance of a classifier is strongly dependent on the amount of data it is trained on. In Ex. 4.3.1 you train it on only half of the data and test it on the other half. If you rerun that code multiple times, with random 50/50 partitions, you are gonna see a lot of uncertainty in performance. Cross validation solves this problem by training on a larger subset of the data and testing on a smaller one, and taking the average performance over K-folds of this process.\n",
    "1. Explain how the `KFold` function (imported from `sklearn.model_selection`) works."
   ]
  },
  {
   "cell_type": "markdown",
   "metadata": {},
   "source": [
    "#Answer to 4.3.2.1\n",
    "\n",
    "The KFold function trains/tests the model on different portions of the data such that every part of the data is trained and tested on. "
   ]
  },
  {
   "cell_type": "markdown",
   "metadata": {},
   "source": [
    "2. Using `KFold`, implement cross validation over $K=10$ folds. For each fold you must record the training and test accuracies. In the end, visualize the distributions of test- and training accuracy as histograms in the same plot. Why are training accuracies consistently higher than testing accuracies (comment)?."
   ]
  },
  {
   "cell_type": "code",
   "execution_count": 40,
   "metadata": {},
   "outputs": [
    {
     "ename": "NameError",
     "evalue": "name 'X' is not defined",
     "output_type": "error",
     "traceback": [
      "\u001b[0;31m---------------------------------------------------------------------------\u001b[0m",
      "\u001b[0;31mNameError\u001b[0m                                 Traceback (most recent call last)",
      "Input \u001b[0;32mIn [40]\u001b[0m, in \u001b[0;36m<module>\u001b[0;34m\u001b[0m\n\u001b[1;32m      9\u001b[0m \u001b[38;5;66;03m#Create array to store accuracies\u001b[39;00m\n\u001b[1;32m     10\u001b[0m accuracies \u001b[38;5;241m=\u001b[39m []\n\u001b[0;32m---> 12\u001b[0m \u001b[38;5;28mprint\u001b[39m(kf\u001b[38;5;241m.\u001b[39msplit(\u001b[43mX\u001b[49m))\n",
      "\u001b[0;31mNameError\u001b[0m: name 'X' is not defined"
     ]
    }
   ],
   "source": [
    "#Answer to 4.3.2.2\n",
    "\n",
    "from sklearn.model_selection import KFold\n",
    "\n",
    "#Create the splits for the data\n",
    "k = 10\n",
    "kf = KFold(n_splits = k, shuffle = True)\n",
    "\n",
    "#Create array to store accuracies\n",
    "accuracies = []\n",
    "\n",
    "print(kf.split(X))"
   ]
  },
  {
   "cell_type": "markdown",
   "metadata": {},
   "source": [
    "### Part 4: Predicting good vs. evil"
   ]
  },
  {
   "cell_type": "markdown",
   "metadata": {},
   "source": [
    ">**Ex. 4.4.1**: Let's put our classifier to use!\n",
    "* Retrain your model on all of your data (still only heroes and villains).\n",
    "* Get a team alliance representation of the ambiguous characters\n",
    "* Use the model the estimate the probability that each character is a villain (let's call this *villainness*). You can use the `.predict_proba` method on the model to get probability estimates rather than class assignments. It produces an array with two columns, where the 1st column is the probability of class 1 (which is heroes).\n",
    "* **Visualize the \"heroness\" distribution for all ambiguous characters**. Comment on the result."
   ]
  },
  {
   "cell_type": "code",
   "execution_count": 23,
   "metadata": {},
   "outputs": [
    {
     "name": "stdout",
     "output_type": "stream",
     "text": [
      "[[9.99857053e-01 1.42947019e-04]\n",
      " [6.98519288e-01 3.01480712e-01]\n",
      " [8.88307544e-01 1.11692456e-01]\n",
      " [3.61686193e-01 6.38313807e-01]\n",
      " [4.64926905e-03 9.95350731e-01]\n",
      " [2.97303856e-01 7.02696144e-01]\n",
      " [8.76397299e-01 1.23602701e-01]\n",
      " [8.75484509e-01 1.24515491e-01]\n",
      " [6.59183083e-01 3.40816917e-01]\n",
      " [9.94458787e-01 5.54121261e-03]\n",
      " [4.39949409e-01 5.60050591e-01]\n",
      " [9.91974546e-01 8.02545398e-03]\n",
      " [9.73141162e-01 2.68588381e-02]\n",
      " [8.78636583e-01 1.21363417e-01]\n",
      " [2.77016612e-01 7.22983388e-01]\n",
      " [7.04484051e-01 2.95515949e-01]\n",
      " [7.95135606e-01 2.04864394e-01]\n",
      " [4.40945107e-02 9.55905489e-01]\n",
      " [4.22663933e-02 9.57733607e-01]\n",
      " [4.38234224e-01 5.61765776e-01]\n",
      " [9.22508967e-01 7.74910329e-02]\n",
      " [9.03541458e-03 9.90964585e-01]\n",
      " [6.25936197e-01 3.74063803e-01]\n",
      " [9.98437496e-01 1.56250391e-03]\n",
      " [9.70278035e-01 2.97219648e-02]\n",
      " [7.55587759e-01 2.44412241e-01]\n",
      " [7.23188321e-01 2.76811679e-01]\n",
      " [4.10205368e-01 5.89794632e-01]\n",
      " [1.18589429e-01 8.81410571e-01]\n",
      " [6.58346428e-01 3.41653572e-01]\n",
      " [7.95028892e-01 2.04971108e-01]\n",
      " [1.75729185e-01 8.24270815e-01]\n",
      " [8.64216070e-01 1.35783930e-01]\n",
      " [8.12924888e-01 1.87075112e-01]\n",
      " [6.86299929e-01 3.13700071e-01]\n",
      " [9.77118594e-01 2.28814059e-02]\n",
      " [2.30404299e-01 7.69595701e-01]\n",
      " [9.97043078e-01 2.95692198e-03]\n",
      " [1.24916172e-01 8.75083828e-01]\n",
      " [5.35357630e-01 4.64642370e-01]\n",
      " [8.41208908e-01 1.58791092e-01]\n",
      " [2.73470073e-01 7.26529927e-01]\n",
      " [9.65011131e-01 3.49888691e-02]\n",
      " [7.95135606e-01 2.04864394e-01]\n",
      " [6.59183083e-01 3.40816917e-01]\n",
      " [3.21465008e-01 6.78534992e-01]\n",
      " [5.39968998e-03 9.94600310e-01]\n",
      " [2.83605368e-01 7.16394632e-01]\n",
      " [9.93413323e-05 9.99900659e-01]\n",
      " [5.58830882e-01 4.41169118e-01]\n",
      " [1.09732414e-02 9.89026759e-01]\n",
      " [8.87489698e-01 1.12510302e-01]\n",
      " [7.39658388e-01 2.60341612e-01]\n",
      " [3.55086715e-02 9.64491328e-01]\n",
      " [2.76142134e-01 7.23857866e-01]\n",
      " [6.59183083e-01 3.40816917e-01]\n",
      " [4.16486183e-01 5.83513817e-01]\n",
      " [4.06117890e-04 9.99593882e-01]\n",
      " [3.51410319e-02 9.64858968e-01]\n",
      " [9.93850707e-01 6.14929293e-03]\n",
      " [9.70022343e-01 2.99776572e-02]\n",
      " [3.52039712e-01 6.47960288e-01]\n",
      " [1.04268151e-01 8.95731849e-01]\n",
      " [2.98554978e-02 9.70144502e-01]\n",
      " [1.03404011e-01 8.96595989e-01]\n",
      " [5.31658676e-01 4.68341324e-01]\n",
      " [9.90217575e-01 9.78242484e-03]\n",
      " [6.59183083e-01 3.40816917e-01]\n",
      " [9.96768756e-01 3.23124406e-03]\n",
      " [5.60616915e-01 4.39383085e-01]\n",
      " [9.75462146e-01 2.45378541e-02]\n",
      " [9.69440582e-01 3.05594175e-02]\n",
      " [5.54094515e-01 4.45905485e-01]\n",
      " [1.86315275e-01 8.13684725e-01]\n",
      " [6.36591160e-01 3.63408840e-01]\n",
      " [4.54338627e-01 5.45661373e-01]\n",
      " [8.75340712e-01 1.24659288e-01]\n",
      " [5.11325008e-03 9.94886750e-01]\n",
      " [9.83211231e-01 1.67887688e-02]\n",
      " [3.74056609e-01 6.25943391e-01]\n",
      " [2.59651131e-01 7.40348869e-01]\n",
      " [8.89231372e-01 1.10768628e-01]\n",
      " [4.13102522e-02 9.58689748e-01]\n",
      " [2.63268110e-01 7.36731890e-01]\n",
      " [5.13463342e-01 4.86536658e-01]]\n"
     ]
    },
    {
     "data": {
      "image/png": "[encoded data removed]",
      "text/plain": [
       "<Figure size 432x288 with 1 Axes>"
      ]
     },
     "metadata": {
      "needs_background": "light"
     },
     "output_type": "display_data"
    }
   ],
   "source": [
    "#Answer to 4.4.1\n",
    "import matplotlib.pyplot as plt\n",
    "from sklearn.naive_bayes import BernoulliNB\n",
    "\n",
    "#Trarin new model on all the heroes and villains\n",
    "model_44 = BernoulliNB()\n",
    "model_44.fit(team_alliance_matrix_no_amb, character_alignment_array_no_amb)\n",
    "\n",
    "#Get the ambiguous characters\n",
    "team_alliance_matrix_amb = []\n",
    "character_alignment_array_amb = []\n",
    "\n",
    "for i in range(len(team_alliance_matrix)):\n",
    "    if character_alignment_array[i] == 2:\n",
    "        team_alliance_matrix_amb.append(team_alliance_matrix[i])\n",
    "        character_alignment_array_amb.append(character_alignment_array[i])\n",
    "\n",
    "#Test the model using the ambiguous characters\n",
    "faction_predictions_amb = model_44.predict_proba(team_alliance_matrix_amb)\n",
    "print(faction_predictions_amb)\n",
    "\n",
    "#Visualize the data via histogram\n",
    "faction_predictions_amb = [tuple(i) for i in faction_predictions_amb]\n",
    "plt.hist(faction_predictions_amb, bins = 10)\n",
    "plt.show()\n"
   ]
  },
  {
   "cell_type": "code",
   "execution_count": null,
   "metadata": {},
   "outputs": [],
   "source": []
  }
 ],
 "metadata": {
  "kernelspec": {
   "display_name": "Python 3 (ipykernel)",
   "language": "python",
   "name": "python3"
  },
  "language_info": {
   "codemirror_mode": {
    "name": "ipython",
    "version": 3
   },
   "file_extension": ".py",
   "mimetype": "text/x-python",
   "name": "python",
   "nbconvert_exporter": "python",
   "pygments_lexer": "ipython3",
   "version": "3.8.10"
  },
  "nav_menu": {},
  "toc": {
   "base_numbering": 1,
   "nav_menu": {},
   "number_sections": false,
   "sideBar": true,
   "skip_h1_title": false,
   "title_cell": "Table of Contents",
   "title_sidebar": "Contents",
   "toc_cell": false,
   "toc_position": {},
   "toc_section_display": "block",
   "toc_window_display": true
  },
  "varInspector": {
   "cols": {
    "lenName": 16,
    "lenType": 16,
    "lenVar": 40
   },
   "kernels_config": {
    "python": {
     "delete_cmd_postfix": "",
     "delete_cmd_prefix": "del ",
     "library": "var_list.py",
     "varRefreshCmd": "print(var_dic_list())"
    },
    "r": {
     "delete_cmd_postfix": ") ",
     "delete_cmd_prefix": "rm(",
     "library": "var_list.r",
     "varRefreshCmd": "cat(var_dic_list()) "
    }
   },
   "types_to_exclude": [
    "module",
    "function",
    "builtin_function_or_method",
    "instance",
    "_Feature"
   ],
   "window_display": false
  }
 },
 "nbformat": 4,
 "nbformat_minor": 2
}
